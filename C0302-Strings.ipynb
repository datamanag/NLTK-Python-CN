{
 "metadata": {
  "language_info": {
   "codemirror_mode": {
    "name": "ipython",
    "version": 3
   },
   "file_extension": ".py",
   "mimetype": "text/x-python",
   "name": "python",
   "nbconvert_exporter": "python",
   "pygments_lexer": "ipython3",
   "version": "3.6.7-final"
  },
  "orig_nbformat": 2,
  "kernelspec": {
   "name": "python3",
   "display_name": "DataAnalysis"
  }
 },
 "nbformat": 4,
 "nbformat_minor": 2,
 "cells": [
  {
   "cell_type": "code",
   "execution_count": 1,
   "metadata": {},
   "outputs": [],
   "source": [
    "from tools import *\n",
    "%matplotlib inline"
   ]
  },
  {
   "source": [
    "# Chap 3 处理原始文本\n",
    "1.  如何访问文件内的文本？\n",
    "2.  如何将文档分割成单独的单词和标点符号，从而进行文本语料上的分析？\n",
    "3.  如何产生格式化的输出，并把结果保存在文件中？"
   ],
   "cell_type": "markdown",
   "metadata": {}
  },
  {
   "source": [
    "## 3.2 字符串：底层的文本处理"
   ],
   "cell_type": "markdown",
   "metadata": {}
  },
  {
   "source": [
    "### 3.2.1 字符串的基本操作"
   ],
   "cell_type": "markdown",
   "metadata": {}
  },
  {
   "cell_type": "code",
   "execution_count": 2,
   "metadata": {},
   "outputs": [
    {
     "output_type": "stream",
     "name": "stdout",
     "text": [
      "monty=  Monty Python!\ncircus=  Monty Python's Flying Circus\ncircus=  Monty Python's Flying Circus\n"
     ]
    }
   ],
   "source": [
    "monty = 'Monty Python!'\n",
    "print('monty= ', monty)\n",
    "\n",
    "circus = \"Monty Python's Flying Circus\"\n",
    "print('circus= ', circus)\n",
    "\n",
    "circus = 'Monty Python\\'s Flying Circus'\n",
    "print('circus= ', circus)"
   ]
  },
  {
   "cell_type": "code",
   "execution_count": 3,
   "metadata": {},
   "outputs": [
    {
     "output_type": "stream",
     "name": "stdout",
     "text": [
      "couplet=  Shall I compare thee to a Summer's day?Thou are more lovely and more temperate:\ncouplet=  Shall I compare thee to a Summer's day?Thou are more lovely and more temperate:\ncouplet=  Shall I compare thee to a Summer's day?Thou are more lovely and more temperate:\ncouplet=  Shall I compare thee to a Summer's day?\nThou are more lovely and more temperate:\ncouplet=  Shall I compare thee to a Summer's day?\nThou are more lovely and more temperate:\n"
     ]
    }
   ],
   "source": [
    "couplet = \"Shall I compare thee to a Summer's day?\" \\\n",
    "          \"Thou are more lovely and more temperate:\"\n",
    "print('couplet= ', couplet)\n",
    "\n",
    "couplet = \"Shall I compare thee to a Summer's day?\" +\\\n",
    "          \"Thou are more lovely and more temperate:\"\n",
    "print('couplet= ', couplet)\n",
    "\n",
    "couplet = (\"Shall I compare thee to a Summer's day?\"\n",
    "           \"Thou are more lovely and more temperate:\")\n",
    "print('couplet= ', couplet)\n",
    "\n",
    "couplet = \"\"\"Shall I compare thee to a Summer's day?\n",
    "Thou are more lovely and more temperate:\"\"\"\n",
    "print('couplet= ', couplet)\n",
    "\n",
    "couplet = '''Shall I compare thee to a Summer's day?\n",
    "Thou are more lovely and more temperate:'''\n",
    "print('couplet= ', couplet)"
   ]
  },
  {
   "cell_type": "code",
   "execution_count": 4,
   "metadata": {},
   "outputs": [
    {
     "output_type": "stream",
     "name": "stdout",
     "text": [
      "couplet=  Rough winds do shake the darling buds of May,And Summer's lease hath all too short a date:\ncouplet=  Rough winds do shake the darling buds of May,\nAnd Summer's lease hath all too short a date:\n"
     ]
    }
   ],
   "source": [
    "couplet = (\"Rough winds do shake the darling buds of May,\"\n",
    "           \"And Summer's lease hath all too short a date:\")\n",
    "print('couplet= ', couplet)\n",
    "\n",
    "couplet = '''Rough winds do shake the darling buds of May,\n",
    "And Summer's lease hath all too short a date:'''\n",
    "print('couplet= ', couplet)"
   ]
  },
  {
   "cell_type": "code",
   "execution_count": 5,
   "metadata": {},
   "outputs": [
    {
     "output_type": "stream",
     "name": "stdout",
     "text": [
      "a=  [1, 2, 3, 4, 5, 6, 7, 6, 5, 4, 3, 2, 1]\nb=  ['            very', '          veryvery', '        veryveryvery', '      veryveryveryvery', '    veryveryveryveryvery', '  veryveryveryveryveryvery', 'veryveryveryveryveryveryvery', '  veryveryveryveryveryvery', '    veryveryveryveryvery', '      veryveryveryvery', '        veryveryvery', '          veryvery', '            very']\n"
     ]
    }
   ],
   "source": [
    "a = [1, 2, 3, 4, 5, 6, 7, 6, 5, 4, 3, 2, 1]\n",
    "print('a= ', a)\n",
    "\n",
    "b = [' ' * 2 * (7 - i) + 'very' * i for i in a]\n",
    "print('b= ', b)"
   ]
  },
  {
   "source": [
    "### 3.2.2 字符串输出"
   ],
   "cell_type": "markdown",
   "metadata": {}
  },
  {
   "cell_type": "code",
   "execution_count": 6,
   "metadata": {},
   "outputs": [
    {
     "output_type": "stream",
     "name": "stdout",
     "text": [
      "Monty Python!\nMonty Python!Holy Grail\nMonty Python! Holy Grail\nMonty Python! and the Holy Grail\n"
     ]
    }
   ],
   "source": [
    "print(monty)\n",
    "\n",
    "grail = 'Holy Grail'\n",
    "print(monty + grail)\n",
    "print(monty, grail)\n",
    "print(monty, 'and the', grail)"
   ]
  },
  {
   "source": [
    "### 3.2.3 访问字符串中的单个字符"
   ],
   "cell_type": "markdown",
   "metadata": {}
  },
  {
   "cell_type": "code",
   "execution_count": 7,
   "metadata": {},
   "outputs": [
    {
     "output_type": "stream",
     "name": "stdout",
     "text": [
      "monty[0]=  M\n",
      "monty[3]=  t\n",
      "monty[5]=   \n",
      "monty[len(monty) - 1]=  !\n",
      "monty[-1]=  !\n",
      "monty[-7]=  P\n"
     ]
    }
   ],
   "source": [
    "print(\"monty[0]= \", monty[0])\n",
    "print(\"monty[3]= \", monty[3])\n",
    "print(\"monty[5]= \", monty[5])\n",
    "print(\"monty[len(monty) - 1]= \", monty[len(monty) - 1])\n",
    "\n",
    "# 超出字符串的索引\n",
    "# print(\"monty[20]= \", monty[20])\n",
    "\n",
    "print(\"monty[-1]= \", monty[-1])\n",
    "print(\"monty[-7]= \", monty[-7])"
   ]
  },
  {
   "cell_type": "code",
   "execution_count": 8,
   "metadata": {},
   "outputs": [
    {
     "output_type": "stream",
     "name": "stdout",
     "text": [
      "c o l o r l e s s   g r e e n   i d e a s   s l e e p   f u r i o u s l y "
     ]
    }
   ],
   "source": [
    "sent = 'colorless green ideas sleep furiously'\n",
    "for char in sent:\n",
    "    print(char, end=' ')"
   ]
  },
  {
   "cell_type": "code",
   "execution_count": 9,
   "metadata": {},
   "outputs": [
    {
     "output_type": "stream",
     "name": "stdout",
     "text": [
      "fdist.most_common(5)=  [('e', 117092), ('t', 87996), ('a', 77916), ('o', 69326), ('n', 65617)]\nchar_list=  ['e', 't', 'a', 'o', 'n', 'i', 's', 'h', 'r', 'l', 'd', 'u', 'm', 'c', 'w', 'f', 'g', 'p', 'b', 'y', 'v', 'k', 'q', 'j', 'x', 'z']\n"
     ]
    },
    {
     "output_type": "display_data",
     "data": {
      "text/plain": "<Figure size 432x288 with 1 Axes>",
      "image/png": "[encoded data removed]"
     },
     "metadata": {
      "needs_background": "light"
     }
    },
    {
     "output_type": "execute_result",
     "data": {
      "text/plain": [
       "<matplotlib.axes._subplots.AxesSubplot at 0xc1a03c8>"
      ]
     },
     "metadata": {},
     "execution_count": 9
    }
   ],
   "source": [
    "from nltk.corpus import gutenberg\n",
    "\n",
    "raw = gutenberg.raw('melville-moby_dick.txt')\n",
    "fdist = nltk.FreqDist(\n",
    "        ch.lower()\n",
    "        for ch in raw\n",
    "        if ch.isalpha()\n",
    ")\n",
    "print(\"fdist.most_common(5)= \", fdist.most_common(5))\n",
    "\n",
    "char_list = [\n",
    "        char\n",
    "        for (char, count) in fdist.most_common()\n",
    "]\n",
    "print('char_list= ', char_list)\n",
    "fdist.plot()"
   ]
  },
  {
   "source": [
    "### 3.2.4 访问子字符串（字符串切片）"
   ],
   "cell_type": "markdown",
   "metadata": {}
  },
  {
   "cell_type": "code",
   "execution_count": 10,
   "metadata": {},
   "outputs": [
    {
     "output_type": "stream",
     "name": "stdout",
     "text": [
      "monty[6:10]=  Pyth\nmonty[-12:-7]=  onty \nmonty[:5]=  Monty\nmonty[6:]=  Python!\n"
     ]
    }
   ],
   "source": [
    "print(\"monty[6:10]= \",monty[6:10])\n",
    "print(\"monty[-12:-7]= \",monty[-12:-7])\n",
    "print(\"monty[:5]= \",monty[:5])\n",
    "print(\"monty[6:]= \",monty[6:])"
   ]
  },
  {
   "cell_type": "code",
   "execution_count": 11,
   "metadata": {},
   "outputs": [
    {
     "output_type": "stream",
     "name": "stdout",
     "text": [
      "found \"thing\"!\nmonty.find('Python')=  6\n"
     ]
    }
   ],
   "source": [
    "phrase = 'And now for something completely different'\n",
    "# in 操作符\n",
    "if 'thing' in phrase:\n",
    "    print('found \"thing\"!')\n",
    "# find() 函数\n",
    "print(\"monty.find('Python')= \", monty.find('Python'))"
   ]
  },
  {
   "cell_type": "code",
   "execution_count": 12,
   "metadata": {},
   "outputs": [
    {
     "output_type": "stream",
     "name": "stdout",
     "text": [
      "sent slice=  sentence\n"
     ]
    }
   ],
   "source": [
    "sent = \"my sentence...\"\n",
    "print('sent slice= ', sent[3:11])"
   ]
  },
  {
   "source": [
    "### 3.2.5 更多字符串操作函数：表3-2 P99"
   ],
   "cell_type": "markdown",
   "metadata": {}
  },
  {
   "source": [
    "### 3.2.6 链表与字符串的差异"
   ],
   "cell_type": "markdown",
   "metadata": {}
  },
  {
   "cell_type": "code",
   "execution_count": 13,
   "metadata": {},
   "outputs": [
    {
     "output_type": "stream",
     "name": "stdout",
     "text": [
      "query[2]=  o\nquery[:2]=  Wh\nquery + \" I don't\"=  Who knows? I don't\n"
     ]
    }
   ],
   "source": [
    "query = 'Who knows?'\n",
    "print(\"query[2]= \", query[2])\n",
    "print(\"query[:2]= \", query[:2])\n",
    "print('query + \" I don\\'t\"= ', query + \" I don\\'t\")  # 字符串与字符串相加\n",
    "\n",
    "# query[0] = 'F'  # 字符串不可以修改初始值\n",
    "# del query[0]  # 字符串不可能删除里面的元素"
   ]
  },
  {
   "cell_type": "code",
   "execution_count": 14,
   "metadata": {},
   "outputs": [
    {
     "output_type": "stream",
     "name": "stdout",
     "text": [
      "beatles[2]=  George\nbeatles[:2]=  ['John', 'Paul']\n"
     ]
    }
   ],
   "source": [
    "beatles = ['John', 'Paul', 'George', 'Ringo']\n",
    "print(\"beatles[2]= \", beatles[2])\n",
    "print(\"beatles[:2]= \", beatles[:2])"
   ]
  },
  {
   "cell_type": "code",
   "execution_count": 15,
   "metadata": {},
   "outputs": [
    {
     "output_type": "stream",
     "name": "stdout",
     "text": [
      "beatles + ['Brian']=  ['John', 'Paul', 'George', 'Ringo', 'Brian']\n"
     ]
    }
   ],
   "source": [
    "# print(\"beatles + 'Brian'= \", beatles + 'Brian')  # 链表不能与字符串相加\n",
    "print(\"beatles + ['Brian']= \", beatles + ['Brian'])  # 链表与链表相加"
   ]
  },
  {
   "cell_type": "code",
   "execution_count": 16,
   "metadata": {},
   "outputs": [
    {
     "output_type": "stream",
     "name": "stdout",
     "text": [
      "beatles=  ['John', 'Paul', 'George', 'Ringo']\nbeatles=  ['John Lennon', 'Paul', 'George', 'Ringo']\nbeatles=  ['Paul', 'George', 'Ringo']\n"
     ]
    }
   ],
   "source": [
    "print(\"beatles= \", beatles)\n",
    "beatles[0] = 'John Lennon'  # 链表可以修改初始值\n",
    "print(\"beatles= \", beatles)\n",
    "del beatles[0]  # 链表可以删除里面的元素\n",
    "print(\"beatles= \", beatles)"
   ]
  }
 ]
}