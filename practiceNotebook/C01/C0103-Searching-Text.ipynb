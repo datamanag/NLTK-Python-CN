{
 "metadata": {
  "language_info": {
   "codemirror_mode": {
    "name": "ipython",
    "version": 3
   },
   "file_extension": ".py",
   "mimetype": "text/x-python",
   "name": "python",
   "nbconvert_exporter": "python",
   "pygments_lexer": "ipython3",
   "version": "3.6.7-final"
  },
  "orig_nbformat": 2,
  "kernelspec": {
   "name": "Python 3.6.7 64-bit ('DataAnalysis': conda)",
   "display_name": "Python 3.6.7 64-bit ('DataAnalysis': conda)",
   "metadata": {
    "interpreter": {
     "hash": "07829f70181eff8a51ba0c91cec5a602c5da58bbdadabc96e22cfe4f56b0b078"
    }
   }
  }
 },
 "nbformat": 4,
 "nbformat_minor": 2,
 "cells": [
  {
   "cell_type": "code",
   "execution_count": 1,
   "metadata": {},
   "outputs": [
    {
     "output_type": "stream",
     "name": "stdout",
     "text": [
      "*** Introductory Examples for the NLTK Book ***\n",
      "Loading text1, ..., text9 and sent1, ..., sent9\n",
      "Type the name of the text or sentence to view it.\n",
      "Type: 'texts()' or 'sents()' to list the materials.\n",
      "text1: Moby Dick by Herman Melville 1851\n",
      "text2: Sense and Sensibility by Jane Austen 1811\n",
      "text3: The Book of Genesis\n",
      "text4: Inaugural Address Corpus\n",
      "text5: Chat Corpus\n",
      "text6: Monty Python and the Holy Grail\n",
      "text7: Wall Street Journal\n",
      "text8: Personals Corpus\n",
      "text9: The Man Who Was Thursday by G . K . Chesterton 1908\n"
     ]
    }
   ],
   "source": [
    "from tools import *\n",
    "from nltk.book import *\n",
    "%matplotlib inline"
   ]
  },
  {
   "source": [
    "# Chap1 语言处理与Python\n",
    "\n",
    "目的：\n",
    "\n",
    "1.  简单的程序如何与大规模的文本结合？\n",
    "2.  如何自动地提取出关键字和词组？如何使用它们来总结文本的风格和内容？\n",
    "3.  Python为文本处理提供了哪些工具和技术？\n",
    "4.  自然语言处理中还有哪些有趣的挑战？"
   ],
   "cell_type": "markdown",
   "metadata": {}
  },
  {
   "source": [
    "## 1.3 计算语言：简单的统计"
   ],
   "cell_type": "markdown",
   "metadata": {}
  },
  {
   "cell_type": "code",
   "execution_count": 2,
   "metadata": {},
   "outputs": [
    {
     "output_type": "stream",
     "name": "stdout",
     "text": [
      "sorted(saying)=  ['After', 'all', 'and', 'done', 'done', 'is', 'is', 'more', 'said', 'said', 'than']\nset(saying)=  {'and', 'After', 'is', 'said', 'all', 'than', 'more', 'done'}\ntokens= sorted(set(saying))=  ['After', 'all', 'and', 'done', 'is', 'more', 'said', 'than']\ntokens[-3:]=  ['more', 'said', 'than']\n"
     ]
    }
   ],
   "source": [
    "saying = ['After', 'all', 'is', 'said', 'and', 'done', 'more', 'is', 'said', 'than', 'done']\n",
    "print(\"sorted(saying)= \", sorted(saying))\n",
    "tokens=set(saying)\n",
    "print(\"set(saying)= \", tokens)\n",
    "tokens=sorted(tokens)\n",
    "print(\"tokens= sorted(set(saying))= \", tokens)\n",
    "print(\"tokens[-3:]= \", tokens[-3:])"
   ]
  },
  {
   "source": [
    "### 1.3.1 频率分布"
   ],
   "cell_type": "markdown",
   "metadata": {}
  },
  {
   "cell_type": "code",
   "execution_count": 3,
   "metadata": {
    "tags": []
   },
   "outputs": [
    {
     "output_type": "stream",
     "name": "stdout",
     "text": [
      "FreqDist(text1)=  <FreqDist with 19317 samples and 260819 outcomes>\n"
     ]
    },
    {
     "output_type": "execute_result",
     "data": {
      "text/plain": [
       "FreqDist({',': 18713, 'the': 13721, '.': 6862, 'of': 6536, 'and': 6024, 'a': 4569, 'to': 4542, ';': 4072, 'in': 3916, 'that': 2982, ...})"
      ]
     },
     "metadata": {},
     "execution_count": 3
    }
   ],
   "source": [
    "fdist1=FreqDist(text1)\n",
    "print(\"FreqDist(text1)= \", fdist1)\n",
    "fdist1"
   ]
  },
  {
   "cell_type": "code",
   "execution_count": 4,
   "metadata": {},
   "outputs": [
    {
     "output_type": "stream",
     "name": "stdout",
     "text": [
      "fdist1.most_common(50)=  [(',', 18713), ('the', 13721), ('.', 6862), ('of', 6536), ('and', 6024), ('a', 4569), ('to', 4542), (';', 4072), ('in', 3916), ('that', 2982), (\"'\", 2684), ('-', 2552), ('his', 2459), ('it', 2209), ('I', 2124), ('s', 1739), ('is', 1695), ('he', 1661), ('with', 1659), ('was', 1632), ('as', 1620), ('\"', 1478), ('all', 1462), ('for', 1414), ('this', 1280), ('!', 1269), ('at', 1231), ('by', 1137), ('but', 1113), ('not', 1103), ('--', 1070), ('him', 1058), ('from', 1052), ('be', 1030), ('on', 1005), ('so', 918), ('whale', 906), ('one', 889), ('you', 841), ('had', 767), ('have', 760), ('there', 715), ('But', 705), ('or', 697), ('were', 680), ('now', 646), ('which', 640), ('?', 637), ('me', 627), ('like', 624)]\n"
     ]
    }
   ],
   "source": [
    "# FreqDist 的切片\n",
    "print(\"fdist1.most_common(50)= \",fdist1.most_common(50))"
   ]
  },
  {
   "cell_type": "code",
   "execution_count": 5,
   "metadata": {},
   "outputs": [
    {
     "output_type": "stream",
     "name": "stdout",
     "text": [
      "fdist1['whale']=  906\n"
     ]
    }
   ],
   "source": [
    "# FreqDist 的索引\n",
    "print(\"fdist1['whale']= \",fdist1['whale'])"
   ]
  },
  {
   "cell_type": "code",
   "execution_count": 6,
   "metadata": {},
   "outputs": [
    {
     "output_type": "display_data",
     "data": {
      "text/plain": "<Figure size 432x288 with 1 Axes>",
      "image/png": "[encoded data removed]"
     },
     "metadata": {
      "needs_background": "light"
     }
    },
    {
     "output_type": "execute_result",
     "data": {
      "text/plain": [
       "<matplotlib.axes._subplots.AxesSubplot at 0xed8c208>"
      ]
     },
     "metadata": {},
     "execution_count": 6
    }
   ],
   "source": [
    "# 图1-4：50个最常用词的累积频率图\n",
    "fdist1.plot(50, cumulative=True)"
   ]
  },
  {
   "cell_type": "code",
   "execution_count": 7,
   "metadata": {
    "tags": []
   },
   "outputs": [
    {
     "output_type": "stream",
     "name": "stdout",
     "text": [
      "fdist1.hapaxes()[:50]=  ['Herman', 'Melville', ']', 'ETYMOLOGY', 'Late', 'Consumptive', 'School', 'threadbare', 'lexicons', 'mockingly', 'flags', 'mortality', 'signification', 'HACKLUYT', 'Sw', 'HVAL', 'roundness', 'Dut', 'Ger', 'WALLEN', 'WALW', 'IAN', 'RICHARDSON', 'KETOS', 'GREEK', 'CETUS', 'LATIN', 'WHOEL', 'ANGLO', 'SAXON', 'WAL', 'HWAL', 'SWEDISH', 'ICELANDIC', 'BALEINE', 'BALLENA', 'FEGEE', 'ERROMANGOAN', 'Librarian', 'painstaking', 'burrower', 'grub', 'Vaticans', 'stalls', 'higgledy', 'piggledy', 'gospel', 'promiscuously', 'commentator', 'belongest']\nlen(fdist1.hapaxes())=  9002\n"
     ]
    }
   ],
   "source": [
    "# hapaxes() 找出低频词，只出现一次的单词\n",
    "print(\"fdist1.hapaxes()[:50]= \",fdist1.hapaxes()[:50])\n",
    "print(\"len(fdist1.hapaxes())= \",len(fdist1.hapaxes()))"
   ]
  },
  {
   "cell_type": "code",
   "execution_count": 8,
   "metadata": {},
   "outputs": [
    {
     "output_type": "stream",
     "name": "stdout",
     "text": [
      "list(vocabulary1)[:50]=  ['[', 'Moby', 'Dick', 'by', 'Herman', 'Melville', '1851', ']', 'ETYMOLOGY', '.', '(', 'Supplied', 'a', 'Late', 'Consumptive', 'Usher', 'to', 'Grammar', 'School', ')', 'The', 'pale', '--', 'threadbare', 'in', 'coat', ',', 'heart', 'body', 'and', 'brain', ';', 'I', 'see', 'him', 'now', 'He', 'was', 'ever', 'dusting', 'his', 'old', 'lexicons', 'grammars', 'with', 'queer', 'handkerchief', 'mockingly', 'embellished', 'all']\n"
     ]
    }
   ],
   "source": [
    "# 这个用法已经废弃\n",
    "vocabulary1 = fdist1.keys()\n",
    "print(\"list(vocabulary1)[:50]= \",list(vocabulary1)[:50])"
   ]
  },
  {
   "source": [
    "### 1.3.2 基于细粒度选择单词\n",
    "\n",
    "-   数学公式：$\\{w|w \\in V \\& P(W) \\}$\n",
    "-   程序代码：`[w for w in V if p(w)]`"
   ],
   "cell_type": "markdown",
   "metadata": {}
  },
  {
   "cell_type": "code",
   "execution_count": 9,
   "metadata": {},
   "outputs": [
    {
     "output_type": "stream",
     "name": "stdout",
     "text": [
      "len(long_words)=  24\n"
     ]
    },
    {
     "output_type": "execute_result",
     "data": {
      "text/plain": [
       "['CIRCUMNAVIGATION',\n",
       " 'Physiognomically',\n",
       " 'apprehensiveness',\n",
       " 'cannibalistically',\n",
       " 'characteristically',\n",
       " 'circumnavigating',\n",
       " 'circumnavigation',\n",
       " 'circumnavigations',\n",
       " 'comprehensiveness',\n",
       " 'hermaphroditical',\n",
       " 'indiscriminately',\n",
       " 'indispensableness',\n",
       " 'irresistibleness',\n",
       " 'physiognomically',\n",
       " 'preternaturalness',\n",
       " 'responsibilities',\n",
       " 'simultaneousness',\n",
       " 'subterraneousness',\n",
       " 'supernaturalness',\n",
       " 'superstitiousness',\n",
       " 'uncomfortableness',\n",
       " 'uncompromisedness',\n",
       " 'undiscriminating',\n",
       " 'uninterpenetratingly']"
      ]
     },
     "metadata": {},
     "execution_count": 9
    }
   ],
   "source": [
    "V = set(text1)\n",
    "long_words1 = [w for w in V if len(w) > 15]\n",
    "print(\"len(long_words)= \", len(long_words1))\n",
    "sorted(long_words1)"
   ]
  },
  {
   "cell_type": "code",
   "execution_count": 10,
   "metadata": {},
   "outputs": [
    {
     "output_type": "stream",
     "name": "stdout",
     "text": [
      "len(long_words5)=  19\n"
     ]
    },
    {
     "output_type": "execute_result",
     "data": {
      "text/plain": [
       "['#14-19teens',\n",
       " '#talkcity_adults',\n",
       " '((((((((((',\n",
       " '........',\n",
       " 'Question',\n",
       " 'actually',\n",
       " 'anything',\n",
       " 'computer',\n",
       " 'cute.-ass',\n",
       " 'everyone',\n",
       " 'football',\n",
       " 'innocent',\n",
       " 'listening',\n",
       " 'remember',\n",
       " 'seriously',\n",
       " 'something',\n",
       " 'together',\n",
       " 'tomorrow',\n",
       " 'watching']"
      ]
     },
     "metadata": {},
     "execution_count": 10
    }
   ],
   "source": [
    "# 聊天语料库中所有长度超过 7 个字符，并且出现次数超过 7 次的单词\n",
    "fdist5 = FreqDist(text5)\n",
    "long_words5 = [w for w in set(text5) if len(w) > 7 and fdist5[w] > 7]\n",
    "print(\"len(long_words5)= \", len(long_words5))\n",
    "sorted(long_words5)"
   ]
  },
  {
   "source": [
    "### 1.3.3 词语搭配 和 双连词\n",
    "\n",
    "**搭配**：是不经常出现在一起的词序列。例如：『red wine』 是一个搭配，而『the wine』不是\n",
    "\n",
    "要获取搭配，需要从提取文本词汇中的词对(即双连词)，提取双连词使用 bigrams() 函数"
   ],
   "cell_type": "markdown",
   "metadata": {}
  },
  {
   "cell_type": "code",
   "execution_count": 11,
   "metadata": {},
   "outputs": [
    {
     "output_type": "stream",
     "name": "stdout",
     "text": [
      "doubleWords=  [('more', 'is'), ('is', 'said'), ('said', 'than'), ('than', 'done')]\n"
     ]
    }
   ],
   "source": [
    "doubleWords = list(bigrams(['more', 'is', 'said', 'than', 'done']))\n",
    "print(\"doubleWords= \", doubleWords)"
   ]
  },
  {
   "cell_type": "code",
   "execution_count": 12,
   "metadata": {},
   "outputs": [
    {
     "output_type": "stream",
     "name": "stdout",
     "text": [
      "=============== >text4.collocations()< ===============\n",
      "United States; fellow citizens; four years; years ago; Federal\n",
      "Government; General Government; American people; Vice President; Old\n",
      "World; Almighty God; Fellow citizens; Chief Magistrate; Chief Justice;\n",
      "God bless; every citizen; Indian tribes; public debt; one another;\n",
      "foreign nations; political parties\n",
      "None\n",
      "=============== >text8.collocations()< ===============\n",
      "would like; medium build; social drinker; quiet nights; non smoker;\n",
      "long term; age open; Would like; easy going; financially secure; fun\n",
      "times; similar interests; Age open; weekends away; poss rship; well\n",
      "presented; never married; single mum; permanent relationship; slim\n",
      "build\n",
      "None\n"
     ]
    }
   ],
   "source": [
    "# collocations() 寻找出现频率大于基准频率的连词，默认频率=20，默认窗口=2\n",
    "show_title(\"text4.collocations()\")\n",
    "print(text4.collocations())\n",
    "show_title(\"text8.collocations()\")\n",
    "print(text8.collocations())"
   ]
  },
  {
   "source": [
    "### 1.3.4 计算其他东西"
   ],
   "cell_type": "markdown",
   "metadata": {}
  },
  {
   "cell_type": "code",
   "execution_count": 13,
   "metadata": {
    "tags": []
   },
   "outputs": [
    {
     "output_type": "stream",
     "name": "stdout",
     "text": [
      "文本中单词长度序列： [1, 4, 4, 2, 6, 8, 4, 1, 9, 1, 1, 8, 2, 1, 4, 11, 5, 2, 1, 7, 6, 1, 3, 4, 5, 2, 10, 2, 4, 1, 5, 1, 4, 1, 3, 5, 1, 1, 3, 3, 3, 1, 2, 3, 4, 7, 3, 3, 8, 3]\n",
      "=============== >查看文本中单词长度的分布< ===============\n",
      "    3     1     4     2     5     6     7     8     9    10    11    12    13    14    15    16    17    18    20 \n",
      "50223 47933 42345 38513 26597 17111 14399  9966  6428  3528  1873  1053   567   177    70    22    12     1     1 \n",
      "None\n"
     ]
    },
    {
     "output_type": "display_data",
     "data": {
      "text/plain": "<Figure size 432x288 with 1 Axes>",
      "image/png": "[encoded data removed]"
     },
     "metadata": {
      "needs_background": "light"
     }
    },
    {
     "output_type": "execute_result",
     "data": {
      "text/plain": [
       "<matplotlib.axes._subplots.AxesSubplot at 0xf0545f8>"
      ]
     },
     "metadata": {},
     "execution_count": 13
    }
   ],
   "source": [
    "print(\"文本中单词长度序列：\",[len(w) for w in text1][:50])\n",
    "\n",
    "fdist_word_len_1 = FreqDist([len(w) for w in text1])\n",
    "show_title(\"查看文本中单词长度的分布\")\n",
    "print(fdist_word_len_1.tabulate())\n",
    "fdist_word_len_1.plot()"
   ]
  },
  {
   "source": [
    "表1-2：NLTK 频率分布类中定义的常用函数\n",
    "\n",
    "| 例子                        | 描述                                          |\n",
    "| --------------------------- | --------------------------------------------- |\n",
    "| `fdist=FreqDist(samples)`     | 创建包含给定样本的频率分布                    |\n",
    "| `fdist['word']`              | 给定样本出现的次数                            |\n",
    "| `fdist.freq('word')`          | 给定样本出现的频率                            |\n",
    "| `fdist.N()`                   | 样本的总数                                    |\n",
    "| `fdist.keys()`                | 以频率递减顺序显示样本(好像是错的)            |\n",
    "| `for word in fdist:`          | 以频率递减顺序遍历样本                        |\n",
    "| `fdist.most_common(n)`        | 以频率递减顺序显示(样本，次数)元组链表        |\n",
    "| `fdist.max()`                 | 数值最大的样本                                |\n",
    "| `fdist.tabulate()`            | 输出频率分布表                                |\n",
    "| `fdist.plot()`                | 绘制频率分布图                                |\n",
    "| `fdist.plot(cumulative=True)` | 绘制累积频率分布图                            |\n",
    "| `fdist1 |= fdist2`           | 基于 fdist2 的统计数据更新 fdist1             |\n",
    "| `fdist1 < fdist2`             | 测试样本出现的频率 fdist1 中是否小于 fdist2中 |"
   ],
   "cell_type": "markdown",
   "metadata": {}
  },
  {
   "cell_type": "code",
   "execution_count": 14,
   "metadata": {},
   "outputs": [
    {
     "output_type": "stream",
     "name": "stdout",
     "text": [
      "文本中单词长度序列中的关键字： [1, 2, 3, 4, 5, 6, 7, 8, 9, 10, 11, 12, 13, 14, 15, 16, 17, 18, 20]\n文本中单词长度序列中的低频关键字(即这类单词长度的单词在文本中出现的较少)： [18, 20]\n文本中单词的个数： 260819 == 260819\n"
     ]
    }
   ],
   "source": [
    "print(\"文本中单词长度序列中的关键字：\",sorted(fdist_word_len_1.keys()))\n",
    "print(\"文本中单词长度序列中的低频关键字(即这类单词长度的单词在文本中出现的较少)：\",fdist_word_len_1.hapaxes())\n",
    "print(\"文本中单词的个数：\",fdist_word_len_1.N(),\"==\",len(text1))"
   ]
  },
  {
   "cell_type": "code",
   "execution_count": 15,
   "metadata": {},
   "outputs": [
    {
     "output_type": "stream",
     "name": "stdout",
     "text": [
      "文本中 5 个出现频率最高的单词长度序列及其出现次数 = [(3, 50223), (1, 47933), (4, 42345), (2, 38513), (5, 26597)]\n文本中的样本总数=  260819\n文本中单词长度序列最多的单词出现次数=  3\n文本中单词长度为 3 的单词出现次数=  50223\n文本中单词长度为 3 的单词出现占比=  0.19255882431878046\n"
     ]
    }
   ],
   "source": [
    "print(\"文本中 5 个出现频率最高的单词长度序列及其出现次数 =\", fdist_word_len_1.most_common(5))\n",
    "print(\"文本中的样本总数= \", fdist_word_len_1.N())\n",
    "print(\"文本中单词长度序列最多的单词出现次数= \", fdist_word_len_1.max())\n",
    "print(\"文本中单词长度为 3 的单词出现次数= \", fdist_word_len_1[3])\n",
    "print(\"文本中单词长度为 3 的单词出现占比= \", fdist_word_len_1.freq(3))"
   ]
  },
  {
   "cell_type": "code",
   "execution_count": 18,
   "metadata": {
    "tags": []
   },
   "outputs": [
    {
     "output_type": "stream",
     "name": "stdout",
     "text": [
      "1, 1, 1, 1, 1, 1, 1, 1, 1, 1, 1, 1, 1, 1, 1, 1, 1, 1, 1, 1, 1, 1, 1, 1, 1, 1, 1, 1, 1, 1, 1, 1, 1, 1, 1, 1, 1, 1, 1, 1, 1, 1, 1, 1, 1, 1, 1, 1, 1, 1, 1, 1, 1, 1, 1, 1, 1, 1, 1, 1, 1, 1, 1, 1, 1, 1, 1, 1, 1, 1, 1, 1, 1, 1, 1, 1, 1, 1, 1, 1, 1, 1, 1, 1, 1, 1, 1, 1, 1, 1, 1, 1, 1, 1, 1, 1, 1, 1, 1, 1, "
     ]
    }
   ],
   "source": [
    "# 以频率递减的顺序遍历样本\n",
    "for i, element in enumerate(fdist_word_len_1.elements()):\n",
    "    if i<100:   # 避免消耗过长时间输出数据\n",
    "        print(element, end=', ')"
   ]
  }
 ]
}