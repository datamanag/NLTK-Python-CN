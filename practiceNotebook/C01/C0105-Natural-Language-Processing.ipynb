{
 "metadata": {
  "language_info": {
   "codemirror_mode": {
    "name": "ipython",
    "version": 3
   },
   "file_extension": ".py",
   "mimetype": "text/x-python",
   "name": "python",
   "nbconvert_exporter": "python",
   "pygments_lexer": "ipython3",
   "version": "3.6.7-final"
  },
  "orig_nbformat": 2,
  "kernelspec": {
   "name": "Python 3.6.7 64-bit ('DataAnalysis': conda)",
   "display_name": "Python 3.6.7 64-bit ('DataAnalysis': conda)",
   "metadata": {
    "interpreter": {
     "hash": "07829f70181eff8a51ba0c91cec5a602c5da58bbdadabc96e22cfe4f56b0b078"
    }
   }
  }
 },
 "nbformat": 4,
 "nbformat_minor": 2,
 "cells": [
  {
   "cell_type": "code",
   "execution_count": 1,
   "metadata": {},
   "outputs": [],
   "source": [
    "from tools import *"
   ]
  },
  {
   "source": [
    "# Chap1 语言处理与Python\n",
    "\n",
    "目的：\n",
    "\n",
    "1.  简单的程序如何与大规模的文本结合？\n",
    "2.  如何自动地提取出关键字和词组？如何使用它们来总结文本的风格和内容？\n",
    "3.  Python为文本处理提供了哪些工具和技术？\n",
    "4.  自然语言处理中还有哪些有趣的挑战？"
   ],
   "cell_type": "markdown",
   "metadata": {}
  },
  {
   "source": [
    "## 1.5 自然语言理解的自动化处理\n",
    "### 1.5.1 词意消歧\n",
    "相同的单词在不同的上下文中指定不同的意思\n",
    "### 1.5.2 指代消解\n",
    "检测动词的主语和宾语\n",
    "-   指代消解：确定代词或名字短语指的是什么？\n",
    "-   语义角色标注：确定名词短语如何与动词想关联（如代理、受事、工具等）\n",
    "### 1.5.3 自动生成语言\n",
    "如果能够自动地解决语言理解问题，就能够继续进行自动生成语言的任务，例如：自动问答和机器翻译。\n",
    "### 1.5.4 机器翻译\n",
    "文本对齐：自动配对组成句子"
   ],
   "cell_type": "markdown",
   "metadata": {}
  },
  {
   "cell_type": "code",
   "execution_count": null,
   "metadata": {},
   "outputs": [],
   "source": [
    "# babelize_shell() 函数已经废弃"
   ]
  },
  {
   "source": [
    "### 1.5.5 人机对话系统\n",
    "图1-5，简单的话音对话系统的流程架构\n",
    "### 1.5.6 文本的含义\n",
    "文本含义识别（Recognizing Textual Entailment, RTE）\n",
    "### 1.5.7 NLP的局限性"
   ],
   "cell_type": "markdown",
   "metadata": {}
  }
 ]
}