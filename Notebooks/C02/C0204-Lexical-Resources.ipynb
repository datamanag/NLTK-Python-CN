{
 "metadata": {
  "language_info": {
   "codemirror_mode": {
    "name": "ipython",
    "version": 3
   },
   "file_extension": ".py",
   "mimetype": "text/x-python",
   "name": "python",
   "nbconvert_exporter": "python",
   "pygments_lexer": "ipython3",
   "version": "3.6.7-final"
  },
  "orig_nbformat": 2,
  "kernelspec": {
   "name": "python3",
   "display_name": "DataAnalysis"
  }
 },
 "nbformat": 4,
 "nbformat_minor": 2,
 "cells": [
  {
   "cell_type": "code",
   "execution_count": 1,
   "metadata": {},
   "outputs": [],
   "source": [
    "from tools import *\n",
    "from func import *\n",
    "%matplotlib inline"
   ]
  },
  {
   "source": [
    "## 2.4 词典资源\n",
    "-   词项：包括词目(也叫词条)及其他附加信息。\n",
    "-   同音异义词：两个含义不同但是拼写相同的分词。\n",
    "### 2.4.1 词汇列表语料库\n",
    "过滤文本，删除掉常见英语词典中的单词，留下罕见的或者拼写错误的词汇"
   ],
   "cell_type": "markdown",
   "metadata": {}
  },
  {
   "cell_type": "code",
   "execution_count": 2,
   "metadata": {
    "tags": []
   },
   "outputs": [
    {
     "output_type": "stream",
     "name": "stdout",
     "text": [
      "--------------- >austen-sense 中的非常用词汇< ---------------\n",
      "['abbeyland', 'abhorred', 'abilities', 'abounded', 'abridgement', 'abused', 'abuses', 'accents', 'accepting', 'accommodations', 'accompanied', 'accounted', 'accounts']\n",
      "--------------- >nps_chat 中的非常用词汇：< ---------------\n",
      "['aaaaaaaaaaaaaaaaa', 'aaahhhh', 'abortions', 'abou', 'abourted', 'abs', 'ack', 'acros', 'actualy', 'adams', 'adds', 'adduser', 'adjusts']\n"
     ]
    }
   ],
   "source": [
    "show_subtitle(\"austen-sense 中的非常用词汇\")\n",
    "print(unusual_words(nltk.corpus.gutenberg.words('austen-sense.txt'))[:13])\n",
    "show_subtitle(\"nps_chat 中的非常用词汇：\")\n",
    "print(unusual_words(nltk.corpus.nps_chat.words())[:13])"
   ]
  },
  {
   "cell_type": "code",
   "execution_count": 3,
   "metadata": {},
   "outputs": [
    {
     "output_type": "stream",
     "name": "stdout",
     "text": [
      "--------------- >english stopwords< ---------------\n['i', 'me', 'my', 'myself', 'we', 'our', 'ours', 'ourselves', 'you', 'your', 'yours', 'yourself', 'yourselves', 'he', 'him', 'his', 'himself', 'she', 'her', 'hers', 'herself', 'it', 'its', 'itself', 'they', 'them', 'their', 'theirs', 'themselves', 'what', 'which', 'who', 'whom', 'this', 'that', 'these', 'those', 'am', 'is', 'are', 'was', 'were', 'be', 'been', 'being', 'have', 'has', 'had', 'having', 'do', 'does', 'did', 'doing', 'a', 'an', 'the', 'and', 'but', 'if', 'or', 'because', 'as', 'until', 'while', 'of', 'at', 'by', 'for', 'with', 'about', 'against', 'between', 'into', 'through', 'during', 'before', 'after', 'above', 'below', 'to', 'from', 'up', 'down', 'in', 'out', 'on', 'off', 'over', 'under', 'again', 'further', 'then', 'once', 'here', 'there', 'when', 'where', 'why', 'how', 'all', 'any', 'both', 'each', 'few', 'more', 'most', 'other', 'some', 'such', 'no', 'nor', 'not', 'only', 'own', 'same', 'so', 'than', 'too', 'very', 's', 't', 'can', 'will', 'just', 'don', 'should', 'now']\n"
     ]
    }
   ],
   "source": [
    "# 停止词语料库(stopwords)：包括的是高频词汇，是会使说话停止的单词，不是不再使用的单词\n",
    "from nltk.corpus import stopwords\n",
    "\n",
    "show_subtitle(\"english stopwords\")\n",
    "print(stopwords.words('english'))"
   ]
  },
  {
   "cell_type": "code",
   "execution_count": 4,
   "metadata": {},
   "outputs": [
    {
     "output_type": "stream",
     "name": "stdout",
     "text": [
      "reuters 中非停用词所占的比例= 0.7364374824583169\n"
     ]
    }
   ],
   "source": [
    "# 利用停止词，筛选掉文本中三分之一的单词\n",
    "print(\"reuters 中非停用词所占的比例=\", content_fraction(nltk.corpus.reuters.words()))"
   ]
  },
  {
   "cell_type": "code",
   "execution_count": 5,
   "metadata": {},
   "outputs": [
    {
     "output_type": "stream",
     "name": "stdout",
     "text": [
      "--------------- >puzzle letters tabulate< ---------------\n",
      "v e g i r o n l \n",
      "2 1 1 1 1 1 1 1 \n",
      "target word list=  ['glover', 'gorlin', 'govern', 'grovel', 'ignore', 'involver', 'lienor', 'linger', 'longer', 'lovering', 'noiler', 'overling', 'region', 'renvoi', 'revolving', 'ringle', 'roving', 'violer', 'virole']\n"
     ]
    }
   ],
   "source": [
    "# 图2-6：词谜：在由随机选择的字母组成的网格中，选择里面的字母组成单词。\n",
    "# 这个谜题叫做「目标」\n",
    "# 使用 ‘egivrvonl’ 字母可以组成多少个不少于6个字母的单词？\n",
    "# 确保「r」字母出现，其他字母出现频率不高于 puzzle_letters 的要求\n",
    "puzzle_letters = nltk.FreqDist('egivrvonl')\n",
    "show_subtitle(\"puzzle letters tabulate\")\n",
    "puzzle_letters.tabulate()\n",
    "\n",
    "obligatory = 'r'\n",
    "word_list = nltk.corpus.words.words()\n",
    "target_word_list = [\n",
    "        w\n",
    "        for w in word_list\n",
    "        if len(w) >= 6 and obligatory in w and nltk.FreqDist(w) <= puzzle_letters\n",
    "]\n",
    "print(\"target word list= \", target_word_list)"
   ]
  },
  {
   "cell_type": "code",
   "execution_count": 6,
   "metadata": {},
   "outputs": [
    {
     "output_type": "stream",
     "name": "stdout",
     "text": [
      "name file list= ['female.txt', 'male.txt']\n",
      "name list= ['Abbey', 'Abbie', 'Abby', 'Addie', 'Adrian', 'Adrien', 'Ajay', 'Alex', 'Alexis', 'Alfie', 'Ali', 'Alix', 'Allie']\n",
      "name list length=  365\n"
     ]
    }
   ],
   "source": [
    "# 使用名字语料库\n",
    "# 找出同时出现在两个语料库中的名字(即无法分辨性别的名字)\n",
    "names = nltk.corpus.names\n",
    "print(\"name file list=\", names.fileids())\n",
    "male_names = names.words('male.txt')\n",
    "female_names = names.words('female.txt')\n",
    "name_list = [\n",
    "        w\n",
    "        for w in male_names\n",
    "        if w in female_names\n",
    "]\n",
    "print(\"name list=\", name_list[:13])\n",
    "print(\"name list length= \", len(name_list))"
   ]
  },
  {
   "cell_type": "code",
   "execution_count": 7,
   "metadata": {},
   "outputs": [
    {
     "output_type": "stream",
     "name": "stdout",
     "text": [
      "--------------- >使用 set() 函数计算< ---------------\nname list= ['Kerry', 'Sonny', 'Jermaine', 'Dale', 'Nickie', 'Eddie', 'Vin', 'Angie', 'Van', 'Donnie', 'Terry', 'Georgie', 'Lauren']\nname list length=  365\n"
     ]
    }
   ],
   "source": [
    "show_subtitle(\"使用 set() 函数计算\")\n",
    "print(\"name list=\", list(set(male_names).difference(set(male_names).difference(female_names)))[:13])\n",
    "print(\"name list length= \", len(set(male_names).difference(set(male_names).difference(female_names))))"
   ]
  },
  {
   "cell_type": "code",
   "execution_count": 8,
   "metadata": {
    "tags": []
   },
   "outputs": [
    {
     "output_type": "stream",
     "name": "stdout",
     "text": [
      "('female.txt', 'el')\n('female.txt', 'il')\n('female.txt', 'be')\n('female.txt', 'ey')\n('female.txt', 'bi')\n('female.txt', 'ie')\n('female.txt', 'by')\n('female.txt', 'el')\n('female.txt', 'il')\n('female.txt', 'le')\n('female.txt', 'ra')\n('female.txt', 'ia')\n('female.txt', 'da')\n"
     ]
    }
   ],
   "source": [
    "name_ends = (\n",
    "        (fileid, name[-2:])\n",
    "        for fileid in names.fileids()\n",
    "        for name in names.words(fileid)\n",
    ")\n",
    "for i, name_end in enumerate(name_ends):\n",
    "    if i<13:\n",
    "        print(name_end)"
   ]
  },
  {
   "cell_type": "code",
   "execution_count": 9,
   "metadata": {},
   "outputs": [
    {
     "output_type": "display_data",
     "data": {
      "text/plain": "<Figure size 432x288 with 1 Axes>",
      "image/png": "[encoded data removed]"
     },
     "metadata": {
      "needs_background": "light"
     }
    },
    {
     "output_type": "stream",
     "name": "stdout",
     "text": [
      "            el  il  be  ey  bi  ie  by  le  ra  ia  da \nfemale.txt  70  21   7 101  16 408  18 148 163 247 136 \n  male.txt  65  24   7  86   2 150  18  42   3   3   0 \n"
     ]
    }
   ],
   "source": [
    "name_ends = (\n",
    "        (fileid, name[-2:])\n",
    "        for fileid in names.fileids()\n",
    "        for name in names.words(fileid)\n",
    ")\n",
    "cfd = nltk.ConditionalFreqDist(name_ends)\n",
    "cfd.plot()  # 图2-7 显示男性与女性名字的结尾字母\n",
    "cfd.tabulate(samples=['el', 'il', 'be', 'ey', 'bi', 'ie', 'by', 'le', 'ra', 'ia', 'da'])"
   ]
  },
  {
   "source": [
    "### 2.4.2 发音词典"
   ],
   "cell_type": "markdown",
   "metadata": {}
  },
  {
   "cell_type": "code",
   "execution_count": 10,
   "metadata": {},
   "outputs": [
    {
     "output_type": "stream",
     "name": "stdout",
     "text": [
      "len(entries)=  133737\n('explorer', ['IH0', 'K', 'S', 'P', 'L', 'AO1', 'R', 'ER0'])\n('explorers', ['IH0', 'K', 'S', 'P', 'L', 'AO1', 'R', 'ER0', 'Z'])\n('explores', ['IH0', 'K', 'S', 'P', 'L', 'AO1', 'R', 'Z'])\n('exploring', ['IH0', 'K', 'S', 'P', 'L', 'AO1', 'R', 'IH0', 'NG'])\n('explosion', ['IH0', 'K', 'S', 'P', 'L', 'OW1', 'ZH', 'AH0', 'N'])\n('explosions', ['IH0', 'K', 'S', 'P', 'L', 'OW1', 'ZH', 'AH0', 'N', 'Z'])\n('explosive', ['IH0', 'K', 'S', 'P', 'L', 'OW1', 'S', 'IH0', 'V'])\n('explosively', ['EH2', 'K', 'S', 'P', 'L', 'OW1', 'S', 'IH0', 'V', 'L', 'IY0'])\n"
     ]
    }
   ],
   "source": [
    "# cmudict：美国英语的 CMU 发音词典，为语音合成器提供支持\n",
    "entries = nltk.corpus.cmudict.entries()\n",
    "print(\"len(entries)= \", len(entries))\n",
    "for entry in entries[39943:39951]:\n",
    "    print(entry)"
   ]
  },
  {
   "cell_type": "code",
   "execution_count": 11,
   "metadata": {},
   "outputs": [
    {
     "output_type": "stream",
     "name": "stdout",
     "text": [
      "pait P EY1 T\npat P AE1 T\npate P EY1 T\npatt P AE1 T\npeart P ER1 T\npeat P IY1 T\npeet P IY1 T\npeete P IY1 T\npert P ER1 T\npet P EH1 T\npete P IY1 T\npett P EH1 T\npiet P IY1 T\npiette P IY1 T\npit P IH1 T\npitt P IH1 T\npot P AA1 T\npote P OW1 T\npott P AA1 T\npout P AW1 T\npuett P UW1 T\npurt P ER1 T\nput P UH1 T\nputt P AH1 T\n"
     ]
    }
   ],
   "source": [
    "# 寻找词典中发音包含三个音素的条目\n",
    "for word, pron in entries:\n",
    "    if len(pron) == 3:\n",
    "        ph1, ph2, ph3 = pron\n",
    "        if ph1 == 'P' and ph3 == 'T':\n",
    "            print(word, ph1, ph2, ph3)"
   ]
  },
  {
   "cell_type": "code",
   "execution_count": 12,
   "metadata": {},
   "outputs": [
    {
     "output_type": "stream",
     "name": "stdout",
     "text": [
      "[\"atlantic's\", 'audiotronics', 'avionics', 'beatniks', 'calisthenics', 'centronics', 'chamonix', 'chetniks', \"clinic's\", 'clinics', 'conics', 'conics', 'cryogenics', 'cynics', 'diasonics', \"dominic's\", 'ebonics', 'electronics', \"electronics'\", \"endotronics'\", 'endotronics', 'enix', 'environics', 'ethnics', 'eugenics', 'fibronics', 'flextronics', 'harmonics', 'hispanics', 'histrionics', 'identics', 'ionics', 'kibbutzniks', 'lasersonics', 'lumonics', 'mannix', 'mechanics', \"mechanics'\", 'microelectronics', 'minix', 'minnix', 'mnemonics', 'mnemonics', 'molonicks', 'mullenix', 'mullenix', 'mullinix', 'mulnix', \"munich's\", 'nucleonics', 'onyx', 'organics', \"panic's\", 'panics', 'penix', 'pennix', 'personics', 'phenix', \"philharmonic's\", 'phoenix', 'phonics', 'photronics', 'pinnix', 'plantronics', 'pyrotechnics', 'refuseniks', \"resnick's\", 'respironics', 'sconnix', 'siliconix', 'skolniks', 'sonics', 'sputniks', 'technics', 'tectonics', 'tektronix', 'telectronics', 'telephonics', 'tonics', 'unix', \"vinick's\", \"vinnick's\", 'vitronics']\n"
     ]
    }
   ],
   "source": [
    "# 寻找所有与 nicks 发音相似的单词\n",
    "syllable = ['N', 'IH0', 'K', 'S']\n",
    "word_list = [\n",
    "        word\n",
    "        for word, pron in entries\n",
    "        if pron[-4:] == syllable\n",
    "]\n",
    "print(word_list)"
   ]
  },
  {
   "cell_type": "code",
   "execution_count": 13,
   "metadata": {},
   "outputs": [
    {
     "output_type": "stream",
     "name": "stdout",
     "text": [
      "['autumn', 'column', 'condemn', 'damn', 'goddamn', 'hymn', 'solemn']\n"
     ]
    }
   ],
   "source": [
    "# 寻找拼写以'n'结尾，发音以'M'结尾的单词\n",
    "word_list = [\n",
    "        w\n",
    "        for w, pron in entries\n",
    "        if pron[-1] == 'M' and w[-1] == 'n'\n",
    "]\n",
    "print(word_list)"
   ]
  },
  {
   "cell_type": "code",
   "execution_count": 14,
   "metadata": {
    "tags": []
   },
   "outputs": [
    {
     "output_type": "stream",
     "name": "stdout",
     "text": [
      "[('abbreviated', ['AH0', 'B', 'R', 'IY1', 'V', 'IY0', 'EY2', 'T', 'AH0', 'D']), ('abbreviated', ['AH0', 'B', 'R', 'IY1', 'V', 'IY0', 'EY2', 'T', 'IH0', 'D']), ('abbreviating', ['AH0', 'B', 'R', 'IY1', 'V', 'IY0', 'EY2', 'T', 'IH0', 'NG']), ('accelerated', ['AE0', 'K', 'S', 'EH1', 'L', 'ER0', 'EY2', 'T', 'IH0', 'D']), ('accelerating', ['AE0', 'K', 'S', 'EH1', 'L', 'ER0', 'EY2', 'T', 'IH0', 'NG']), ('accelerator', ['AE0', 'K', 'S', 'EH1', 'L', 'ER0', 'EY2', 'T', 'ER0']), ('accelerators', ['AE0', 'K', 'S', 'EH1', 'L', 'ER0', 'EY2', 'T', 'ER0', 'Z']), ('accentuated', ['AE0', 'K', 'S', 'EH1', 'N', 'CH', 'AH0', 'W', 'EY2', 'T', 'IH0', 'D']), ('accentuating', ['AE0', 'K', 'S', 'EH1', 'N', 'CH', 'AH0', 'W', 'EY2', 'T', 'IH0', 'NG']), ('accommodated', ['AH0', 'K', 'AA1', 'M', 'AH0', 'D', 'EY2', 'T', 'AH0', 'D']), ('accommodating', ['AH0', 'K', 'AA1', 'M', 'AH0', 'D', 'EY2', 'T', 'IH0', 'NG']), ('accommodative', ['AH0', 'K', 'AA1', 'M', 'AH0', 'D', 'EY2', 'T', 'IH0', 'V']), ('accumulated', ['AH0', 'K', 'Y', 'UW1', 'M', 'Y', 'AH0', 'L', 'EY2', 'T', 'IH0', 'D'])]\n"
     ]
    }
   ],
   "source": [
    "# 提取重音数字(0-无重音，1-主重音，2-次重音)\n",
    "word_list = [\n",
    "        (w, pron)\n",
    "        for w, pron in entries\n",
    "        if stress(pron) == ['0', '1', '0', '2', '0']\n",
    "]\n",
    "print(word_list[:13])"
   ]
  },
  {
   "cell_type": "code",
   "execution_count": 15,
   "metadata": {
    "tags": []
   },
   "outputs": [
    {
     "output_type": "stream",
     "name": "stdout",
     "text": [
      "[('abbreviation', ['AH0', 'B', 'R', 'IY2', 'V', 'IY0', 'EY1', 'SH', 'AH0', 'N']), ('abbreviations', ['AH0', 'B', 'R', 'IY2', 'V', 'IY0', 'EY1', 'SH', 'AH0', 'N', 'Z']), ('abomination', ['AH0', 'B', 'AA2', 'M', 'AH0', 'N', 'EY1', 'SH', 'AH0', 'N']), ('abortifacient', ['AH0', 'B', 'AO2', 'R', 'T', 'AH0', 'F', 'EY1', 'SH', 'AH0', 'N', 'T']), ('abortifacients', ['AH0', 'B', 'AO2', 'R', 'T', 'AH0', 'F', 'EY1', 'SH', 'AH0', 'N', 'T', 'S']), ('academicians', ['AH0', 'K', 'AE2', 'D', 'AH0', 'M', 'IH1', 'SH', 'AH0', 'N', 'Z']), ('accommodation', ['AH0', 'K', 'AA2', 'M', 'AH0', 'D', 'EY1', 'SH', 'AH0', 'N']), ('accommodations', ['AH0', 'K', 'AA2', 'M', 'AH0', 'D', 'EY1', 'SH', 'AH0', 'N', 'Z']), ('accreditation', ['AH0', 'K', 'R', 'EH2', 'D', 'AH0', 'T', 'EY1', 'SH', 'AH0', 'N']), ('accreditations', ['AH0', 'K', 'R', 'EH2', 'D', 'AH0', 'D', 'EY1', 'SH', 'AH0', 'N', 'Z']), ('accumulation', ['AH0', 'K', 'Y', 'UW2', 'M', 'Y', 'AH0', 'L', 'EY1', 'SH', 'AH0', 'N']), ('accumulations', ['AH0', 'K', 'Y', 'UW2', 'M', 'Y', 'AH0', 'L', 'EY1', 'SH', 'AH0', 'N', 'Z']), ('acetylcholine', ['AH0', 'S', 'EH2', 'T', 'AH0', 'L', 'K', 'OW1', 'L', 'IY0', 'N'])]\n"
     ]
    }
   ],
   "source": [
    "# 提取重音数字(0-无重音，1-主重音，2-次重音)\n",
    "word_list = [\n",
    "        (w, pron)\n",
    "        for w, pron in entries\n",
    "        if stress(pron) == ['0', '2', '0', '1', '0']\n",
    "]\n",
    "print(word_list[:13])"
   ]
  },
  {
   "cell_type": "code",
   "execution_count": 16,
   "metadata": {},
   "outputs": [
    {
     "output_type": "stream",
     "name": "stdout",
     "text": [
      "--------------- >surrealistic< ---------------\nS=S,\nER0=E,R,0,\nIY2=I,Y,2,\nAH0=A,H,0,\nL=L,\nIH1=I,H,1,\nS=S,\nT=T,\nIH0=I,H,0,\nK=K,\n"
     ]
    }
   ],
   "source": [
    "# 拆分映射、列表、字符串的测试\n",
    "ex_pron = ('surrealistic', ['S', 'ER0', 'IY2', 'AH0', 'L', 'IH1', 'S', 'T', 'IH0', 'K'])\n",
    "(word, pron) = ex_pron\n",
    "show_subtitle(word)\n",
    "for phone in pron:\n",
    "    print(phone, end='=')\n",
    "    for char in phone:\n",
    "        print(char, end=',')\n",
    "    print()"
   ]
  },
  {
   "cell_type": "code",
   "execution_count": 17,
   "metadata": {},
   "outputs": [
    {
     "output_type": "stream",
     "name": "stdout",
     "text": [
      "cfd['P-P']=  <FreqDist with 17 samples and 17 outcomes>\n--------------- >tabulate(P-P, P-R)< ---------------\n     paap paape  paar  pair   pap  pape  papp   par  pare  parr  paup  pear  peep  peer   pep  pier   pip  pipe  pipp  poop  poor poore   pop  pope  popp poppe   por  pore  porr  pour   pup \nP-P     1     1     0     0     1     1     1     0     0     0     1     0     1     0     1     0     1     1     1     1     0     0     1     1     1     1     0     0     0     0     1 \nP-R     0     0     1     1     0     0     0     1     1     1     0     1     0     1     0     1     0     0     0     0     1     1     0     0     0     0     1     1     1     1     0 \nP-P paap paape pap pape papp paup peep pep pip pipe pipp poop pop pope pop...\nP-R paar pair par pare parr pear peer pier poor poore por pore porr pour...\nP-K pac pack paek paik pak pake paque peak peake pech peck peek perc perk ...\nP-S pace pass pasts peace pearse pease perce pers perse pesce piece piss p...\nP-L pahl pail paille pal pale pall paul paule paull peal peale pearl pearl...\nP-N paign pain paine pan pane pawn payne peine pen penh penn pin pine pinn...\nP-Z pais paiz pao's pas pause paws pays paz peas pease pei's perz pez pies...\nP-T pait pat pate patt peart peat peet peete pert pet pete pett piet piett...\nP-CH patch pautsch peach perch petsch petsche piche piech pietsch pitch pit...\nP-UW1 peru peugh pew plew plue prew pru prue prugh pshew pugh...\n"
     ]
    }
   ],
   "source": [
    "# P69 使用条件频率分布寻找相应词汇的最小对比集\n",
    "# 找到所有p开头的三音素词，并比照它们的第一个和最后一个音素来分组\n",
    "p3 = [\n",
    "        (pron[0] + '-' + pron[2], word)\n",
    "        for (word, pron) in entries\n",
    "        if pron[0] == 'P' and len(pron) == 3\n",
    "]\n",
    "cfd = nltk.ConditionalFreqDist(p3)\n",
    "print(\"cfd['P-P']= \", cfd['P-P'])\n",
    "show_subtitle(\"tabulate(P-P, P-R)\")\n",
    "cfd.tabulate(conditions=['P-P', 'P-R'])\n",
    "\n",
    "for template in cfd.conditions():\n",
    "    if len(cfd[template]) > 10:\n",
    "        words = cfd[template].keys()\n",
    "        wordlist = ' '.join(words)\n",
    "        print(template, wordlist[:70] + \"...\")"
   ]
  },
  {
   "cell_type": "code",
   "execution_count": 18,
   "metadata": {},
   "outputs": [
    {
     "output_type": "stream",
     "name": "stdout",
     "text": [
      "prondict['fire']=  [['F', 'AY1', 'ER0'], ['F', 'AY1', 'R']]\nprondict['blog']=  [['B', 'L', 'AA1', 'G']]\n"
     ]
    }
   ],
   "source": [
    "# 访问词典的方式\n",
    "prondict = nltk.corpus.cmudict.dict()\n",
    "print(\"prondict['fire']= \",prondict['fire'])\n",
    "# print(\"prondict['blog'] = \",prondict['blog']  # 词典中没有，报错KeyError\n",
    "# 词典元素赋值\n",
    "prondict['blog'] = [['B', 'L', 'AA1', 'G']]\n",
    "print(\"prondict['blog']= \",prondict['blog'])"
   ]
  },
  {
   "cell_type": "code",
   "execution_count": 19,
   "metadata": {},
   "outputs": [
    {
     "output_type": "stream",
     "name": "stdout",
     "text": [
      "word pronoun list=  ['N', 'AE1', 'CH', 'ER0', 'AH0', 'L', 'L', 'AE1', 'NG', 'G', 'W', 'AH0', 'JH', 'P', 'R', 'AA1', 'S', 'EH0', 'S', 'IH0', 'NG']\n"
     ]
    }
   ],
   "source": [
    "# 在词典中寻找单词的发音\n",
    "text = ['natural', 'language', 'processing']\n",
    "pron_list = [\n",
    "        ph\n",
    "        for w in text\n",
    "        for ph in prondict[w][0]\n",
    "]\n",
    "print(\"word pronoun list= \", pron_list)"
   ]
  },
  {
   "cell_type": "code",
   "execution_count": 20,
   "metadata": {},
   "outputs": [
    {
     "output_type": "stream",
     "name": "stdout",
     "text": [
      "'natural' pronoun list=  [['N', 'AE1', 'CH', 'ER0', 'AH0', 'L'], ['N', 'AE1', 'CH', 'R', 'AH0', 'L'], ['L', 'AE1', 'NG', 'G', 'W', 'AH0', 'JH'], ['L', 'AE1', 'NG', 'G', 'W', 'IH0', 'JH'], ['P', 'R', 'AA1', 'S', 'EH0', 'S', 'IH0', 'NG']]\nprondict['natural']= [['N', 'AE1', 'CH', 'ER0', 'AH0', 'L'], ['N', 'AE1', 'CH', 'R', 'AH0', 'L']]\n"
     ]
    }
   ],
   "source": [
    "# 加[0]是因为natural有两个发音，取其中一个就好了\n",
    "pron_list = [\n",
    "        ph\n",
    "        for w in text\n",
    "        for ph in prondict[w]\n",
    "]\n",
    "print(\"'natural' pronoun list= \", pron_list)\n",
    "print(\"prondict['natural']=\", prondict['natural'])"
   ]
  },
  {
   "source": [
    "### 2.4.3 比较词表（Swadesh wordlists）"
   ],
   "cell_type": "markdown",
   "metadata": {}
  },
  {
   "cell_type": "code",
   "execution_count": 21,
   "metadata": {},
   "outputs": [
    {
     "output_type": "stream",
     "name": "stdout",
     "text": [
      "swadesh.fileids()=  ['be', 'bg', 'bs', 'ca', 'cs', 'cu', 'de', 'en', 'es', 'fr', 'hr', 'it', 'la', 'mk', 'nl', 'pl', 'pt', 'ro', 'ru', 'sk', 'sl', 'sr', 'sw', 'uk']\nswadesh.words('en')=  ['I', 'you (singular), thou', 'he', 'we', 'you (plural)', 'they', 'this', 'that', 'here', 'there', 'who', 'what', 'where', 'when', 'how', 'not', 'all', 'many', 'some', 'few', 'other', 'one', 'two', 'three', 'four', 'five', 'big', 'long', 'wide', 'thick', 'heavy', 'small', 'short', 'narrow', 'thin', 'woman', 'man (adult male)', 'man (human being)', 'child', 'wife', 'husband', 'mother', 'father', 'animal', 'fish', 'bird', 'dog', 'louse', 'snake', 'worm', 'tree', 'forest', 'stick', 'fruit', 'seed', 'leaf', 'root', 'bark (from tree)', 'flower', 'grass', 'rope', 'skin', 'meat', 'blood', 'bone', 'fat (noun)', 'egg', 'horn', 'tail', 'feather', 'hair', 'head', 'ear', 'eye', 'nose', 'mouth', 'tooth', 'tongue', 'fingernail', 'foot', 'leg', 'knee', 'hand', 'wing', 'belly', 'guts', 'neck', 'back', 'breast', 'heart', 'liver', 'drink', 'eat', 'bite', 'suck', 'spit', 'vomit', 'blow', 'breathe', 'laugh', 'see', 'hear', 'know (a fact)', 'think', 'smell', 'fear', 'sleep', 'live', 'die', 'kill', 'fight', 'hunt', 'hit', 'cut', 'split', 'stab', 'scratch', 'dig', 'swim', 'fly (verb)', 'walk', 'come', 'lie', 'sit', 'stand', 'turn', 'fall', 'give', 'hold', 'squeeze', 'rub', 'wash', 'wipe', 'pull', 'push', 'throw', 'tie', 'sew', 'count', 'say', 'sing', 'play', 'float', 'flow', 'freeze', 'swell', 'sun', 'moon', 'star', 'water', 'rain', 'river', 'lake', 'sea', 'salt', 'stone', 'sand', 'dust', 'earth', 'cloud', 'fog', 'sky', 'wind', 'snow', 'ice', 'smoke', 'fire', 'ashes', 'burn', 'road', 'mountain', 'red', 'green', 'yellow', 'white', 'black', 'night', 'day', 'year', 'warm', 'cold', 'full', 'new', 'old', 'good', 'bad', 'rotten', 'dirty', 'straight', 'round', 'sharp', 'dull', 'smooth', 'wet', 'dry', 'correct', 'near', 'far', 'right', 'left', 'at', 'in', 'with', 'and', 'if', 'because', 'name']\n"
     ]
    }
   ],
   "source": [
    "# 包括几种语言的约200个常用词的列表，可以用于比较两个语言之间的差别，也可以用于不同语言的单词翻译\n",
    "from nltk.corpus import swadesh\n",
    "\n",
    "print(\"swadesh.fileids()= \",swadesh.fileids())\n",
    "print(\"swadesh.words('en')= \",swadesh.words('en'))"
   ]
  },
  {
   "cell_type": "code",
   "execution_count": 22,
   "metadata": {},
   "outputs": [
    {
     "output_type": "stream",
     "name": "stdout",
     "text": [
      "fr2en=  [('je', 'I'), ('tu, vous', 'you (singular), thou'), ('il', 'he'), ('nous', 'we'), ('vous', 'you (plural)'), ('ils, elles', 'they'), ('ceci', 'this'), ('cela', 'that'), ('ici', 'here'), ('là', 'there'), ('qui', 'who'), ('quoi', 'what'), ('où', 'where')]\ntranslate['chien']=  dog\n"
     ]
    }
   ],
   "source": [
    "fr2en = swadesh.entries(['fr', 'en'])\n",
    "print(\"fr2en= \",fr2en[:13])\n",
    "translate = dict(fr2en)\n",
    "print(\"translate['chien']= \", translate['chien'])"
   ]
  },
  {
   "cell_type": "code",
   "execution_count": 23,
   "metadata": {},
   "outputs": [
    {
     "output_type": "stream",
     "name": "stdout",
     "text": [
      "translate=  {'je': 'I', 'tu, vous': 'you (singular), thou', 'il': 'he', 'nous': 'we', 'vous': 'you (plural)', 'ils, elles': 'they', 'ceci': 'this', 'cela': 'that', 'ici': 'here', 'là': 'there', 'qui': 'who', 'quoi': 'what', 'où': 'where', 'quand': 'when', 'comment': 'how', 'ne...pas': 'not', 'tout': 'all', 'plusieurs': 'many', 'quelques': 'some', 'peu': 'few', 'autre': 'other', 'un': 'one', 'deux': 'two', 'trois': 'three', 'quatre': 'four', 'cinq': 'five', 'grand': 'big', 'long': 'long', 'large': 'wide', 'épais': 'thick', 'lourd': 'heavy', 'petit': 'small', 'court': 'short', 'étroit': 'narrow', 'mince': 'thin', 'femme': 'woman', 'homme': 'man (human being)', 'enfant': 'child', 'femme, épouse': 'wife', 'mari, époux': 'husband', 'mère': 'mother', 'père': 'father', 'animal': 'animal', 'poisson': 'fish', 'oiseau': 'bird', 'chien': 'dog', 'pou': 'louse', 'serpent': 'snake', 'ver': 'worm', 'arbre': 'tree', 'forêt': 'forest', 'bâton': 'stick', 'fruit': 'fruit', 'graine': 'seed', 'feuille': 'leaf', 'racine': 'root', 'écorce': 'bark (from tree)', 'fleur': 'flower', 'herbe': 'grass', 'corde': 'rope', 'peau': 'skin', 'viande': 'meat', 'sang': 'blood', 'os': 'bone', 'graisse': 'fat (noun)', 'œuf': 'egg', 'corne': 'horn', 'queue': 'tail', 'plume': 'feather', 'cheveu': 'hair', 'tête': 'head', 'oreille': 'ear', 'œil': 'eye', 'nez': 'nose', 'bouche': 'mouth', 'dent': 'tooth', 'langue': 'tongue', 'ongle': 'fingernail', 'pied': 'foot', 'jambe': 'leg', 'genou': 'knee', 'main': 'hand', 'aile': 'wing', 'ventre': 'belly', 'entrailles': 'guts', 'cou': 'neck', 'dos': 'back', 'sein, poitrine': 'breast', 'cœur': 'heart', 'foie': 'liver', 'boire': 'drink', 'manger': 'eat', 'mordre': 'bite', 'sucer': 'suck', 'cracher': 'spit', 'vomir': 'vomit', 'souffler': 'blow', 'respirer': 'breathe', 'rire': 'laugh', 'voir': 'see', 'entendre': 'hear', 'savoir': 'know (a fact)', 'penser': 'think', 'sentir': 'smell', 'craindre, avoir peur': 'fear', 'dormir': 'sleep', 'vivre': 'live', 'mourir': 'die', 'tuer': 'kill', 'se battre': 'fight', 'chasser': 'hunt', 'frapper': 'hit', 'couper': 'cut', 'fendre': 'split', 'poignarder': 'stab', 'gratter': 'scratch', 'creuser': 'dig', 'nager': 'swim', 'voler': 'fly (verb)', 'marcher': 'walk', 'venir': 'come', \"s'étendre\": 'lie', \"s'asseoir\": 'sit', 'se lever': 'stand', 'tourner': 'turn', 'tomber': 'fall', 'donner': 'give', 'tenir': 'hold', 'serrer': 'squeeze', 'frotter': 'rub', 'laver': 'wash', 'essuyer': 'wipe', 'tirer': 'pull', 'pousser': 'push', 'jeter': 'throw', 'lier': 'tie', 'coudre': 'sew', 'compter': 'count', 'dire': 'say', 'chanter': 'sing', 'jouer': 'play', 'flotter': 'float', 'couler': 'flow', 'geler': 'freeze', 'gonfler': 'swell', 'soleil': 'sun', 'lune': 'moon', 'étoile': 'star', 'eau': 'water', 'pluie': 'rain', 'rivière': 'river', 'lac': 'lake', 'mer': 'sea', 'sel': 'salt', 'pierre': 'stone', 'sable': 'sand', 'poussière': 'dust', 'terre': 'earth', 'nuage': 'cloud', 'brouillard': 'fog', 'ciel': 'sky', 'vent': 'wind', 'neige': 'snow', 'glace': 'ice', 'fumée': 'smoke', 'feu': 'fire', 'cendres': 'ashes', 'brûler': 'burn', 'route': 'road', 'montagne': 'mountain', 'rouge': 'red', 'vert': 'green', 'jaune': 'yellow', 'blanc': 'white', 'noir': 'black', 'nuit': 'night', 'jour': 'day', 'an, année': 'year', 'chaud': 'warm', 'froid': 'cold', 'plein': 'full', 'nouveau': 'new', 'vieux': 'old', 'bon': 'good', 'mauvais': 'bad', 'pourri': 'rotten', 'sale': 'dirty', 'droit': 'straight', 'rond': 'round', 'tranchant, pointu, aigu': 'sharp', 'émoussé': 'dull', 'lisse': 'smooth', 'mouillé': 'wet', 'sec': 'dry', 'juste, correct': 'correct', 'proche': 'near', 'loin': 'far', 'à droite': 'right', 'à gauche': 'left', 'à': 'at', 'dans': 'in', 'avec': 'with', 'et': 'and', 'si': 'if', 'parce que': 'because', 'nom': 'name'}\n"
     ]
    }
   ],
   "source": [
    "print(\"translate= \", translate)"
   ]
  },
  {
   "cell_type": "code",
   "execution_count": 24,
   "metadata": {},
   "outputs": [
    {
     "output_type": "stream",
     "name": "stdout",
     "text": [
      "translate['jeter']=  throw\ntranslate['Hund']=  dog\ntranslate['perro']=  dog\n"
     ]
    }
   ],
   "source": [
    "de2en = swadesh.entries(['de', 'en'])\n",
    "translate.update(dict(de2en))\n",
    "es2en = swadesh.entries(['es', 'en'])\n",
    "translate.update(dict(es2en))\n",
    "print(\"translate['jeter']= \", translate['jeter'])\n",
    "print(\"translate['Hund']= \", translate['Hund'])\n",
    "print(\"translate['perro']= \", translate['perro'])"
   ]
  },
  {
   "cell_type": "code",
   "execution_count": 25,
   "metadata": {},
   "outputs": [
    {
     "output_type": "stream",
     "name": "stdout",
     "text": [
      "translate=  {'je': 'I', 'tu, vous': 'you (singular), thou', 'il': 'he', 'nous': 'we', 'vous': 'you (plural)', 'ils, elles': 'they', 'ceci': 'this', 'cela': 'that', 'ici': 'here', 'là': 'there', 'qui': 'who', 'quoi': 'what', 'où': 'where', 'quand': 'when', 'comment': 'how', 'ne...pas': 'not', 'tout': 'all', 'plusieurs': 'many', 'quelques': 'some', 'peu': 'few', 'autre': 'other', 'un': 'one', 'deux': 'two', 'trois': 'three', 'quatre': 'four', 'cinq': 'five', 'grand': 'big', 'long': 'long', 'large': 'wide', 'épais': 'thick', 'lourd': 'heavy', 'petit': 'small', 'court': 'short', 'étroit': 'narrow', 'mince': 'thin', 'femme': 'woman', 'homme': 'man (human being)', 'enfant': 'child', 'femme, épouse': 'wife', 'mari, époux': 'husband', 'mère': 'mother', 'père': 'father', 'animal': 'animal', 'poisson': 'fish', 'oiseau': 'bird', 'chien': 'dog', 'pou': 'louse', 'serpent': 'snake', 'ver': 'see', 'arbre': 'tree', 'forêt': 'forest', 'bâton': 'stick', 'fruit': 'fruit', 'graine': 'seed', 'feuille': 'leaf', 'racine': 'root', 'écorce': 'bark (from tree)', 'fleur': 'flower', 'herbe': 'grass', 'corde': 'rope', 'peau': 'skin', 'viande': 'meat', 'sang': 'blood', 'os': 'bone', 'graisse': 'fat (noun)', 'œuf': 'egg', 'corne': 'horn', 'queue': 'tail', 'plume': 'feather', 'cheveu': 'hair', 'tête': 'head', 'oreille': 'ear', 'œil': 'eye', 'nez': 'nose', 'bouche': 'mouth', 'dent': 'tooth', 'langue': 'tongue', 'ongle': 'fingernail', 'pied': 'foot', 'jambe': 'leg', 'genou': 'knee', 'main': 'hand', 'aile': 'wing', 'ventre': 'belly', 'entrailles': 'guts', 'cou': 'neck', 'dos': 'two', 'sein, poitrine': 'breast', 'cœur': 'heart', 'foie': 'liver', 'boire': 'drink', 'manger': 'eat', 'mordre': 'bite', 'sucer': 'suck', 'cracher': 'spit', 'vomir': 'vomit', 'souffler': 'blow', 'respirer': 'breathe', 'rire': 'laugh', 'voir': 'see', 'entendre': 'hear', 'savoir': 'know (a fact)', 'penser': 'think', 'sentir': 'smell', 'craindre, avoir peur': 'fear', 'dormir': 'sleep', 'vivre': 'live', 'mourir': 'die', 'tuer': 'kill', 'se battre': 'fight', 'chasser': 'hunt', 'frapper': 'hit', 'couper': 'cut', 'fendre': 'split', 'poignarder': 'stab', 'gratter': 'scratch', 'creuser': 'dig', 'nager': 'swim', 'voler': 'fly (verb)', 'marcher': 'walk', 'venir': 'come', \"s'étendre\": 'lie', \"s'asseoir\": 'sit', 'se lever': 'stand', 'tourner': 'turn', 'tomber': 'fall', 'donner': 'give', 'tenir': 'hold', 'serrer': 'squeeze', 'frotter': 'rub', 'laver': 'wash', 'essuyer': 'wipe', 'tirer': 'pull', 'pousser': 'push', 'jeter': 'throw', 'lier': 'tie', 'coudre': 'sew', 'compter': 'count', 'dire': 'say', 'chanter': 'sing', 'jouer': 'play', 'flotter': 'float', 'couler': 'flow', 'geler': 'freeze', 'gonfler': 'swell', 'soleil': 'sun', 'lune': 'moon', 'étoile': 'star', 'eau': 'water', 'pluie': 'rain', 'rivière': 'river', 'lac': 'lake', 'mer': 'sea', 'sel': 'salt', 'pierre': 'stone', 'sable': 'sand', 'poussière': 'dust', 'terre': 'earth', 'nuage': 'cloud', 'brouillard': 'fog', 'ciel': 'sky', 'vent': 'wind', 'neige': 'snow', 'glace': 'ice', 'fumée': 'smoke', 'feu': 'fire', 'cendres': 'ashes', 'brûler': 'burn', 'route': 'road', 'montagne': 'mountain', 'rouge': 'red', 'vert': 'green', 'jaune': 'yellow', 'blanc': 'white', 'noir': 'black', 'nuit': 'night', 'jour': 'day', 'an, année': 'year', 'chaud': 'warm', 'froid': 'cold', 'plein': 'full', 'nouveau': 'new', 'vieux': 'old', 'bon': 'good', 'mauvais': 'bad', 'pourri': 'rotten', 'sale': 'dirty', 'droit': 'straight', 'rond': 'round', 'tranchant, pointu, aigu': 'sharp', 'émoussé': 'dull', 'lisse': 'smooth', 'mouillé': 'wet', 'sec': 'dry', 'juste, correct': 'correct', 'proche': 'near', 'loin': 'far', 'à droite': 'right', 'à gauche': 'left', 'à': 'at', 'dans': 'in', 'avec': 'with', 'et': 'and', 'si': 'if', 'parce que': 'because', 'nom': 'name', 'ich': 'I', 'du, Sie': 'you (singular), thou', 'er': 'he', 'wir': 'we', 'ihr, Sie': 'you (plural)', 'sie': 'they', 'dieses': 'this', 'jenes': 'that', 'hier': 'here', 'dort': 'there', 'wer': 'who', 'was': 'what', 'wo': 'where', 'wann': 'when', 'wie': 'how', 'nicht': 'not', 'alle': 'all', 'viele': 'many', 'einige': 'some', 'wenige': 'few', 'andere': 'other', 'eins': 'one', 'zwei': 'two', 'drei': 'three', 'vier': 'four', 'fünf': 'five', 'groß': 'big', 'lang': 'long', 'breit, weit': 'wide', 'dick': 'thick', 'schwer': 'heavy', 'klein': 'small', 'kurz': 'short', 'eng': 'narrow', 'dünn': 'thin', 'Frau': 'woman', 'Mann': 'man (adult male)', 'Mensch': 'man (human being)', 'Kind': 'child', 'Frau, Ehefrau': 'wife', 'Mann, Ehemann': 'husband', 'Mutter': 'mother', 'Vater': 'father', 'Tier': 'animal', 'Fisch': 'fish', 'Vogel': 'bird', 'Hund': 'dog', 'Laus': 'louse', 'Schlange': 'snake', 'Wurm': 'worm', 'Baum': 'tree', 'Wald': 'forest', 'Stock': 'stick', 'Frucht': 'fruit', 'Samen': 'seed', 'Blatt': 'leaf', 'Wurzel': 'root', 'Rinde': 'bark (from tree)', 'Blume': 'flower', 'Gras': 'grass', 'Seil': 'rope', 'Haut': 'skin', 'Fleisch': 'meat', 'Blut': 'blood', 'Knochen': 'bone', 'Fett': 'fat (noun)', 'Ei': 'egg', 'Horn': 'horn', 'Schwanz': 'tail', 'Feder': 'feather', 'Haar': 'hair', 'Kopf, Haupt': 'head', 'Ohr': 'ear', 'Auge': 'eye', 'Nase': 'nose', 'Mund': 'mouth', 'Zahn': 'tooth', 'Zunge': 'tongue', 'Fingernagel': 'fingernail', 'Fuß': 'foot', 'Bein': 'leg', 'Knie': 'knee', 'Hand': 'hand', 'Flügel': 'wing', 'Bauch': 'belly', 'Eingeweide, Innereien': 'guts', 'Hals': 'neck', 'Rücken': 'back', 'Brust': 'breast', 'Herz': 'heart', 'Leber': 'liver', 'trinken': 'drink', 'essen': 'eat', 'beißen': 'bite', 'saugen': 'suck', 'spucken': 'spit', 'erbrechen': 'vomit', 'blasen': 'blow', 'atmen': 'breathe', 'lachen': 'laugh', 'sehen': 'see', 'hören': 'hear', 'wissen': 'know (a fact)', 'denken': 'think', 'riechen': 'smell', 'fürchten': 'fear', 'schlafen': 'sleep', 'leben': 'live', 'sterben': 'die', 'töten': 'kill', 'kämpfen': 'fight', 'jagen': 'hunt', 'schlagen': 'hit', 'schneiden': 'cut', 'spalten': 'split', 'stechen': 'stab', 'kratzen': 'scratch', 'graben': 'dig', 'schwimmen': 'swim', 'fliegen': 'fly (verb)', 'gehen': 'walk', 'kommen': 'come', 'liegen': 'lie', 'sitzen': 'sit', 'stehen': 'stand', 'drehen': 'turn', 'fallen': 'fall', 'geben': 'give', 'halten': 'hold', 'quetschen': 'squeeze', 'reiben': 'rub', 'waschen': 'wash', 'wischen': 'wipe', 'ziehen': 'pull', 'drücken': 'push', 'werfen': 'throw', 'binden': 'tie', 'nähen': 'sew', 'zählen': 'count', 'sagen': 'say', 'singen': 'sing', 'spielen': 'play', 'schweben': 'float', 'fließen': 'flow', 'frieren': 'freeze', 'schwellen': 'swell', 'Sonne': 'sun', 'Mond': 'moon', 'Stern': 'star', 'Wasser': 'water', 'Regen': 'rain', 'Fluß': 'river', 'See': 'lake', 'Meer, See': 'sea', 'Salz': 'salt', 'Stein': 'stone', 'Sand': 'sand', 'Staub': 'dust', 'Erde': 'earth', 'Wolke': 'cloud', 'Nebel': 'fog', 'Himmel': 'sky', 'Wind': 'wind', 'Schnee': 'snow', 'Eis': 'ice', 'Rauch': 'smoke', 'Feuer': 'fire', 'Asche': 'ashes', 'brennen': 'burn', 'Straße': 'road', 'Berg': 'mountain', 'rot': 'red', 'grün': 'green', 'gelb': 'yellow', 'weiß': 'white', 'schwarz': 'black', 'Nacht': 'night', 'Tag': 'day', 'Jahr': 'year', 'warm': 'warm', 'kalt': 'cold', 'voll': 'full', 'neu': 'new', 'alt': 'old', 'gut': 'good', 'schlecht': 'bad', 'verrottet': 'rotten', 'schmutzig': 'dirty', 'gerade': 'straight', 'rund': 'round', 'scharf': 'sharp', 'stumpf': 'dull', 'glatt': 'smooth', 'nass, feucht': 'wet', 'trocken': 'dry', 'richtig': 'correct', 'nah, nahe': 'near', 'weit, fern': 'far', 'rechts': 'right', 'links': 'left', 'bei, an': 'at', 'in': 'in', 'mit': 'with', 'und': 'and', 'wenn, falls, ob': 'if', 'weil': 'because', 'Name': 'name', 'yo': 'I', 'tú, usted': 'you (singular), thou', 'él': 'he', 'nosotros': 'we', 'vosotros, ustedes': 'you (plural)', 'ellos, ellas': 'they', 'este': 'this', 'ese, aquel': 'that', 'aquí, acá': 'here', 'ahí, allí, allá': 'there', 'quien': 'who', 'que': 'what', 'donde': 'where', 'cuando': 'when', 'como': 'how', 'no': 'not', 'todo': 'all', 'muchos': 'many', 'algunos, unos': 'some', 'poco': 'few', 'otro': 'other', 'uno': 'one', 'tres': 'three', 'cuatro': 'four', 'cinco': 'five', 'grande': 'big', 'largo': 'long', 'ancho': 'wide', 'gordo': 'thick', 'pesado': 'heavy', 'pequeño': 'small', 'corto': 'short', 'estrecho, angosto': 'narrow', 'delgado, flaco': 'thin', 'mujer': 'woman', 'hombre': 'man (human being)', 'niño': 'child', 'esposa, mujer': 'wife', 'esposo, marido': 'husband', 'madre': 'mother', 'padre': 'father', 'pez, pescado': 'fish', 'ave, pájaro': 'bird', 'perro': 'dog', 'piojo': 'louse', 'serpiente, culebra': 'snake', 'gusano': 'worm', 'árbol': 'tree', 'bosque': 'forest', 'palo': 'stick', 'fruta': 'fruit', 'semilla': 'seed', 'hoja': 'leaf', 'raíz': 'root', 'corteza': 'bark (from tree)', 'flor': 'flower', 'hierba, pasto': 'grass', 'cuerda': 'rope', 'piel': 'skin', 'carne': 'meat', 'sangre': 'blood', 'hueso': 'bone', 'grasa': 'fat (noun)', 'huevo': 'egg', 'cuerno': 'horn', 'cola': 'tail', 'pluma': 'feather', 'cabello, pelo': 'hair', 'cabeza': 'head', 'oreja': 'ear', 'ojo': 'eye', 'nariz': 'nose', 'boca': 'mouth', 'diente': 'tooth', 'lengua': 'tongue', 'uña': 'fingernail', 'pie': 'foot', 'pierna': 'leg', 'rodilla': 'knee', 'mano': 'hand', 'ala': 'wing', 'barriga, vientre, panza': 'belly', 'entrañas, tripas': 'guts', 'cuello': 'neck', 'espalda': 'back', 'pecho, seno': 'breast', 'corazón': 'heart', 'hígado': 'liver', 'beber, tomar': 'drink', 'comer': 'eat', 'morder': 'bite', 'chupar': 'suck', 'escupir': 'spit', 'vomitar': 'vomit', 'soplar': 'blow', 'respirar': 'breathe', 'reír': 'laugh', 'oír': 'hear', 'saber': 'know (a fact)', 'pensar': 'think', 'oler': 'smell', 'temer': 'fear', 'vivir': 'live', 'morir': 'die', 'matar': 'kill', 'pelear': 'fight', 'cazar': 'hunt', 'golpear': 'hit', 'cortar': 'cut', 'partir': 'split', 'apuñalar': 'stab', 'arañar, rascar': 'scratch', 'cavar': 'dig', 'nadar': 'swim', 'volar': 'fly (verb)', 'caminar': 'walk', 'echarse, acostarse, tenderse': 'lie', 'sentarse': 'sit', 'estar de pie': 'stand', 'voltear': 'turn', 'caer': 'fall', 'dar': 'give', 'sostener': 'hold', 'apretar': 'squeeze', 'frotar': 'rub', 'lavar': 'wash', 'limpiar': 'wipe', 'tirar': 'throw', 'empujar': 'push', 'atar': 'tie', 'coser': 'sew', 'contar': 'count', 'decir': 'say', 'cantar': 'sing', 'jugar': 'play', 'flotar': 'float', 'fluir': 'flow', 'helar': 'freeze', 'hincharse': 'swell', 'sol': 'sun', 'luna': 'moon', 'estrella': 'star', 'agua': 'water', 'lluvia': 'rain', 'río': 'river', 'lago': 'lake', 'mar': 'sea', 'sal': 'salt', 'piedra': 'stone', 'arena': 'sand', 'polvo': 'dust', 'tierra': 'earth', 'nube': 'cloud', 'niebla': 'fog', 'cielo': 'sky', 'viento': 'wind', 'nieve': 'snow', 'hielo': 'ice', 'humo': 'smoke', 'fuego': 'fire', 'cenizas': 'ashes', 'quemar': 'burn', 'camino': 'road', 'montaña': 'mountain', 'rojo': 'red', 'verde': 'green', 'amarillo': 'yellow', 'blanco': 'white', 'negro': 'black', 'noche': 'night', 'día': 'day', 'año': 'year', 'cálido, tibio': 'warm', 'frío': 'cold', 'lleno': 'full', 'nuevo': 'new', 'viejo': 'old', 'bueno': 'good', 'malo': 'bad', 'podrido': 'rotten', 'sucio': 'dirty', 'recto': 'straight', 'redondo': 'round', 'afilado': 'sharp', 'desafilado': 'dull', 'suave, liso': 'smooth', 'mojado': 'wet', 'seco': 'dry', 'correcto': 'correct', 'cerca': 'near', 'lejos': 'far', 'derecha': 'right', 'izquierda': 'left', 'a, en, ante': 'at', 'en': 'in', 'con': 'with', 'y': 'and', 'porque': 'because', 'nombre': 'name'}\n"
     ]
    }
   ],
   "source": [
    "print(\"translate= \", translate)"
   ]
  },
  {
   "cell_type": "code",
   "execution_count": 26,
   "metadata": {},
   "outputs": [
    {
     "output_type": "stream",
     "name": "stdout",
     "text": [
      "('say', 'sagen', 'zeggen', 'decir', 'dire', 'dizer', 'dicere')\n",
      "('sing', 'singen', 'zingen', 'cantar', 'chanter', 'cantar', 'canere')\n",
      "('play', 'spielen', 'spelen', 'jugar', 'jouer', 'jogar, brincar', 'ludere')\n",
      "('float', 'schweben', 'zweven', 'flotar', 'flotter', 'flutuar, boiar', 'fluctuare')\n"
     ]
    }
   ],
   "source": [
    "languages = ['en', 'de', 'nl', 'es', 'fr', 'pt', 'la']\n",
    "for i in [139, 140, 141, 142]:\n",
    "    print(swadesh.entries(languages)[i])"
   ]
  },
  {
   "source": [
    "### 2.4.4 词汇工具：Toolbox 和 Shoebox\n",
    "[Toolbox](http://www.sil.org/computing/toolbox/)\n",
    "\n",
    "Toolbox 文件由一些条目的集合组成，其中每个条目由一个 或者 多个字段组成。\n",
    "大多数字段都是可选的 或者  重复的，因此这个词汇资源不能作为一个表格 或者 电子表格处理。"
   ],
   "cell_type": "markdown",
   "metadata": {}
  },
  {
   "cell_type": "code",
   "execution_count": 27,
   "metadata": {
    "tags": []
   },
   "outputs": [
    {
     "output_type": "stream",
     "name": "stdout",
     "text": [
      "('kaa', [('ps', 'V'), ('pt', 'A'), ('ge', 'gag'), ('tkp', 'nek i pas'), ('dcsv', 'true'), ('vx', '1'), ('sc', '???'), ('dt', '29/Oct/2005'), ('ex', 'Apoka ira kaaroi aioa-ia reoreopaoro.'), ('xp', 'Kaikai i pas long nek bilong Apoka bikos em i kaikai na toktok.'), ('xe', 'Apoka is gagging from food while talking.')])\n('kaa', [('ps', 'V'), ('pt', 'B'), ('ge', 'strangle'), ('tkp', 'pasim nek'), ('arg', 'O'), ('vx', '2'), ('dt', '07/Oct/2006'), ('ex', 'Rera rauroro rera kaarevoi.'), ('xp', 'Em i holim pas em na nekim em.'), ('xe', 'He is holding him and strangling him.'), ('ex', 'Iroiro-ia oirato okoearo kaaivoi uvare rirovira kaureoparoveira.'), ('xp', 'Ol i pasim nek bilong man long rop bikos em i save bikhet tumas.'), ('xe', \"They strangled the man's neck with rope because he was very stubborn and arrogant.\"), ('ex', 'Oirato okoearo kaaivoi iroiro-ia. Uva viapau uvuiparoi ra vovouparo uva kopiiroi.'), ('xp', 'Ol i pasim nek bilong man long rop. Olsem na em i no pulim win olsem na em i dai.'), ('xe', \"They strangled the man's neck with a rope. And he couldn't breathe and he died.\")])\n('kaa', [('ps', 'N'), ('pt', 'MASC'), ('cl', 'isi'), ('ge', 'cooking banana'), ('tkp', 'banana bilong kukim'), ('pt', 'itoo'), ('sf', 'FLORA'), ('dt', '12/Aug/2005'), ('ex', 'Taeavi iria kaa isi kovopaueva kaparapasia.'), ('xp', 'Taeavi i bin planim gaden banana bilong kukim tasol long paia.'), ('xe', 'Taeavi planted banana in order to cook it.')])\n('kaakaaro', [('ps', 'N'), ('pt', 'NT'), ('ge', 'mixture'), ('tkp', '???'), ('eng', 'mixtures'), ('eng', 'charm used to keep married men and women youthful and attractive'), ('cmt', 'Check vowel length. Is it kaakaaro or kaakaro? Does lexeme have suffix, -aro or -ro?'), ('dt', '20/Nov/2006'), ('ex', 'Kaakaroto ira purapaiveira aue iava opita, voeao-pa airepa oraouirara, ra va aiopaive.'), ('xp', 'Kokonas ol i save wokim long ol kain samting bilong ol nupela marit, bai ol i ken kaikai.'), ('xe', 'Mixtures are made from coconut for newlyweds, who eat them.')])\n('kaakaaviko', [('ps', 'N'), ('pt', 'FEM'), ('ge', 'type of beetle'), ('tkp', '???'), ('nt', 'round beetle like Mexican bean beetle'), ('dt', '10/Feb/2005'), ('sf', 'FAUNA.INSECT'), ('ex', 'Kaakaaviko kare oea binara touaveira vara tapo piupaiveira.'), ('xp', 'Kaakaaviko em i wanpela kain insect em i save istap long ol bin or na long kain lip.'), ('xe', '???'), ('ex', 'Kaakaaviko kare oea raviriro kouro piupaiveira.'), ('xp', 'Em i wanpela kain weevil i save bagarapim ol bin.'), ('xe', '??? damages up beans.')])\n('kaakaavo', [('rt', 'kaavo'), ('ps', '???'), ('rdp', 'partial'), ('ge', 'white'), ('tkp', 'wait'), ('sc', '???'), ('cmt', \"What's the part of speech?\"), ('dt', '29/Oct/2005'), ('ex', 'Kaakaaro oa purapaiveira varauraro tokipasia aue iava opita ora vegoara iava oirara iava ora riakova kaakaaro.'), ('xp', 'Ol i save wokim out long kokonas coconut na ol lip na skin blong ol diwai.'), ('xe', '???'), ('ex', 'Varoa kaakaavopa popotepa ragai varo.'), ('xp', 'Em white lap lap blong mi.'), ('xe', \"That's my white laplap.\"), ('ex', 'Vaoia evaova kaakaavopaova.'), ('xp', 'Dispela diwai em i waitpela.'), ('xe', 'This tree is white.'), ('ex', 'Rarasoria kaakaavoto ira Amerika iava urioroera vo kovosia rupairara voaro.'), ('xp', 'Rarason em i wait man em i bin kam long Amerika na kam wok long hap bilong ol bilak man.'), ('xe', 'Rarason is a white man who came from America ???.')])\n('kaakaoko', [('ps', 'N'), ('pt', '???'), ('ge', 'type of beetle'), ('tkp', 'binatang'), ('sf', 'FAUNA.INSECT'), ('cmt', 'Is it kaakaoko or kaakauko?'), ('dt', '08/Feb/2005'), ('ex', 'Kaakaoko vuri gesito./Kaakauko vurisi gesiva.'), ('xp', '???'), ('xe', 'Kaakauko em i wanpela binatang.')])\n('kaakasi', [('rt', '???'), ('ps', 'V'), ('pt', 'A'), ('ge', 'hot'), ('tkp', 'hot'), ('vx', '1'), ('sc', '???'), ('cmt', \"Vowel length can't possibly be right. Or is the vowel of kaasi long?\"), ('dt', '29/Oct/2005'), ('ex', 'Upiriko pitoka kaakasipai.'), ('xp', 'Sospen kaukau em i hot tru.'), ('xe', 'The saucepan of sweet potatos is really hot.'), ('ex', 'Kaukau pitoka rirovira rutu kaakasipai uvare riro kasia tuitui kasi oripiro.'), ('xp', 'Sospen kaukau em i hot tru bikos em i tan long bikpela paia.'), ('xe', '???')])\n('kaakau', [('ps', 'N'), ('pt', 'FEM'), ('ge', 'dog'), ('tkp', 'dok'), ('dt', '17/Jul/2005'), ('ex', 'Kaakau voresiurava toupa aue kokoto ora kokopi.'), ('xp', 'Dog i gat fopela lek bilong em na em i teleblonge.'), ('xe', 'Dogs are four-footed ???.'), ('ex', 'Revisa riro kaakau raguito.'), ('xp', 'Revisa em i man bilong lukautim dok.'), ('xe', 'Revisa is a big dog lover.'), ('ex', 'Rake ora Jon kaakau kare ousia avasie.'), ('xp', 'Rake wantaim Jon ol i go kisim ol wail dok.'), ('xe', 'Rake and John went to get wild dogs.')])\n('kaakauko', [('ps', 'N'), ('pt', 'MASC'), ('ge', 'gray weevil'), ('tkp', 'wanpela kain binatang'), ('sf', 'FAUNA.INSECT'), ('nt', 'pictured on PNG postage stamp'), ('dt', '29/Oct/2005'), ('ex', 'Kaakauko ira toupareveira aue-ia niugini stemp.'), ('xp', 'Kaakauko em insect em i istap long niugini.'), ('xe', 'The gray weevil is found on the PNG stamp.'), ('ex', 'Kaakauko iria toupaeveira niugini stamia.'), ('xp', 'Weevil i stap long niguini stamp.'), ('xe', 'The gray weevil is on the New Guinea stamp.'), ('ex', 'Kaakauko korekare iava oira iria iava varaua vurivurivira ora kaapovira toupaiveira.'), ('xp', 'Kaakavuko em i wanpela kain binatang skin bilong em i braun na wait.'), ('xe', 'Kaakavuko is an insect whose body is brown and white.')])\n('kaakito', [('rt', 'kaaki'), ('ps', 'N'), ('pt', 'HUM'), ('ge', 'person blind with cataracts'), ('tkp', 'man i gat wanpela ei'), ('nt', 'nickname when used to describe one-eyed person'), ('dt', '11/Feb/2005'), ('ex', 'Rarasirea kakito eisiva rera Tavusiva uruiia.'), ('xp', 'Rarasirea em i wan ai man bilong ples Tavusiova.'), ('xe', 'Rarasirea is a one-eyed man from Tavusiova village.'), ('ex', 'Kaakito kataitoa iava osireito vurapare.'), ('xp', 'Man i gat wanpela ei na i lukluk.'), ('xe', 'A one-eyed man looks out of one eye.')])\n('kaakuupato', [('ps', 'N'), ('pt', 'PN'), ('ge', 'spring of hot mineral water near Togarao.'), ('tkp', '???'), ('nt', 'It is located in gulley above the shorter waterfall and is most likely ???.'), ('dt', '08/Feb/2005'), ('ex', 'Kasiraopato kaakuupato uicoto ira vusivusipareveira vova rasito vo toupare togarao-ia sisiupaveira vosa upiapave ora ruvapasa.'), ('xp', 'Kaakuupato em i spirins hot water em i stap long Togavao taim husat i sik bai ol waswas long bai sick br pinis .'), ('xe', '???'), ('ex', 'Kaakuupato kasiraopato ukoto ira toupare eisi Rureva Togaraoia ruvaraia.'), ('xp', 'Hot wara kaakuupato i stap long Rureva klostu long Togarao.'), ('xe', 'The hot spring Kaakuupato is in Rureva near Togarao.')])\n('kaaova', [('ps', 'N'), ('pt', 'FEM'), ('ge', 'aunt'), ('tkp', '???'), ('nt', 'FaSi'), ('sf', 'KIN'), ('dt', '19/Jul/2004')])\n('kaapa', [('ps', 'N'), ('pt', '???'), ('ge', 'copper metal'), ('tkp', 'retpela ain'), ('dt', '12/Feb/2005'), ('cmt', 'What is paupara doing in the second example?'), ('ex', 'Kaapa vao oa-ia kepa paupaviei.'), ('xp', 'Kaapa em i roof yumi save wokim haus long em.'), ('xe', 'Copper we make houses from.'), ('ex', 'Kaapara kepa paupara oara purapaiveira eisi Astararia.'), ('xp', 'Kapa bilong wokim haus ol i save wokim long Australia.'), ('xe', 'Copper rooves, they make them in Australia.')])\n"
     ]
    }
   ],
   "source": [
    "from nltk.corpus import toolbox\n",
    "\n",
    "rotokas = toolbox.entries('rotokas.dic')\n",
    "for i, word in enumerate(rotokas):\n",
    "    if i<=13:\n",
    "        print(word)"
   ]
  }
 ]
}