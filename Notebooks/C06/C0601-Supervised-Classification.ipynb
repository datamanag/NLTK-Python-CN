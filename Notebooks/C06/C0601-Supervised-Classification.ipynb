{
 "metadata": {
  "language_info": {
   "codemirror_mode": {
    "name": "ipython",
    "version": 3
   },
   "file_extension": ".py",
   "mimetype": "text/x-python",
   "name": "python",
   "nbconvert_exporter": "python",
   "pygments_lexer": "ipython3",
   "version": "3.6.7-final"
  },
  "orig_nbformat": 2,
  "kernelspec": {
   "name": "python3",
   "display_name": "DataAnalysis"
  }
 },
 "nbformat": 4,
 "nbformat_minor": 2,
 "cells": [
  {
   "cell_type": "code",
   "execution_count": 1,
   "metadata": {},
   "outputs": [],
   "source": [
    "import random\n",
    "\n",
    "import nltk\n",
    "from nltk.corpus import names"
   ]
  },
  {
   "source": [
    "# Chap6 学习分类文本\n",
    "\n",
    "学习目标：\n",
    "\n",
    "1.  识别出语言数据中可以用于分类的特征\n",
    "2.  构建用于自动执行语言处理任务的语言模型\n",
    "3.  从语言模型中学习与语言相关的知识"
   ],
   "cell_type": "markdown",
   "metadata": {}
  },
  {
   "source": [
    "## 6.1 有监督分类\n",
    "\n",
    "-   分类是为了给定的输入选择正确的类标签。\n",
    "-   监督式分类：建立在训练语料基础之上的分类"
   ],
   "cell_type": "markdown",
   "metadata": {}
  },
  {
   "source": [
    "### 6.1.1 性别鉴定"
   ],
   "cell_type": "markdown",
   "metadata": {}
  },
  {
   "cell_type": "code",
   "execution_count": 2,
   "metadata": {},
   "outputs": [
    {
     "output_type": "execute_result",
     "data": {
      "text/plain": [
       "{'last_letter': 'k'}"
      ]
     },
     "metadata": {},
     "execution_count": 2
    }
   ],
   "source": [
    "# 以名字的最后一个字母为特征\n",
    "def gender_features(word):\n",
    "    return {'last_letter': word[-1]}\n",
    "\n",
    "\n",
    "gender_features('Shrek')"
   ]
  },
  {
   "cell_type": "code",
   "execution_count": 3,
   "metadata": {
    "tags": []
   },
   "outputs": [],
   "source": [
    "# 原始数据集合\n",
    "labeled_names = (\n",
    "        [\n",
    "                (name, 'male')\n",
    "                for name in names.words('male.txt')\n",
    "        ]\n",
    "        +\n",
    "        [\n",
    "                (name, 'female')\n",
    "                for name in names.words('female.txt')\n",
    "        ]\n",
    ")\n",
    "# 乱序排序数据集\n",
    "random.shuffle(labeled_names)"
   ]
  },
  {
   "cell_type": "code",
   "execution_count": 4,
   "metadata": {},
   "outputs": [],
   "source": [
    "# 特征数据集合\n",
    "feature_sets = [\n",
    "        (gender_features(n), gender)\n",
    "        for (n, gender) in labeled_names\n",
    "]\n",
    "\n",
    "# 训练数据集合 和 测试数据集合\n",
    "train_set, test_set = feature_sets[500:], feature_sets[:500]"
   ]
  },
  {
   "cell_type": "code",
   "execution_count": 5,
   "metadata": {},
   "outputs": [
    {
     "output_type": "stream",
     "name": "stdout",
     "text": [
      "Neo is  male\nTrinity is  female\n"
     ]
    }
   ],
   "source": [
    "# 朴素贝叶斯分类器训练和分类\n",
    "classifier = nltk.NaiveBayesClassifier.train(train_set)\n",
    "print(\"Neo is \", classifier.classify(gender_features('Neo')))\n",
    "print(\"Trinity is \", classifier.classify(gender_features('Trinity')))"
   ]
  },
  {
   "cell_type": "code",
   "execution_count": 6,
   "metadata": {},
   "outputs": [
    {
     "output_type": "stream",
     "name": "stdout",
     "text": [
      "0.776\n"
     ]
    }
   ],
   "source": [
    "# 朴素贝叶斯分类器性能评估\n",
    "print(nltk.classify.accuracy(classifier, test_set))"
   ]
  },
  {
   "cell_type": "code",
   "execution_count": 7,
   "metadata": {},
   "outputs": [
    {
     "output_type": "stream",
     "name": "stdout",
     "text": [
      "Most Informative Features\n             last_letter = 'a'            female : male   =     34.6 : 1.0\n             last_letter = 'k'              male : female =     30.6 : 1.0\n             last_letter = 'f'              male : female =     17.2 : 1.0\n             last_letter = 'p'              male : female =     11.1 : 1.0\n             last_letter = 'v'              male : female =     10.4 : 1.0\n"
     ]
    }
   ],
   "source": [
    "# 信息量大的特征\n",
    "classifier.show_most_informative_features(5)"
   ]
  },
  {
   "cell_type": "code",
   "execution_count": 8,
   "metadata": {},
   "outputs": [
    {
     "output_type": "execute_result",
     "data": {
      "text/plain": [
       "{'name length': 5}"
      ]
     },
     "metadata": {},
     "execution_count": 8
    }
   ],
   "source": [
    "# 性别鉴定：以名字的长度为特征\n",
    "def gender_features(word):\n",
    "    return {'name length': len(word)}\n",
    "\n",
    "\n",
    "gender_features('Shrek')"
   ]
  },
  {
   "cell_type": "code",
   "execution_count": 9,
   "metadata": {},
   "outputs": [
    {
     "output_type": "stream",
     "name": "stdout",
     "text": [
      "Neo is male\n",
      "Trinity is female\n",
      "0.652\n",
      "Most Informative Features\n",
      "             name length = 2                male : female =      2.4 : 1.0\n",
      "             name length = 3                male : female =      2.0 : 1.0\n",
      "             name length = 15               male : female =      1.7 : 1.0\n",
      "             name length = 10             female : male   =      1.5 : 1.0\n",
      "             name length = 11             female : male   =      1.4 : 1.0\n"
     ]
    }
   ],
   "source": [
    "def gender_classifier():\n",
    "    # 特征数据集合\n",
    "    feature_sets = [\n",
    "            (gender_features(n), gender)\n",
    "            for (n, gender) in labeled_names\n",
    "    ]\n",
    "\n",
    "    # 训练数据集合 和 测试数据集合\n",
    "    train_set, test_set = feature_sets[500:], feature_sets[:500]\n",
    "\n",
    "    # 朴素贝叶斯分类器训练和分类\n",
    "    classifier = nltk.NaiveBayesClassifier.train(train_set)\n",
    "    print('Neo is', classifier.classify(gender_features('Neo')))\n",
    "    print('Trinity is', classifier.classify(gender_features('Trinity')))\n",
    "\n",
    "    # 朴素贝叶斯分类器性能评估\n",
    "    print(nltk.classify.accuracy(classifier, test_set))\n",
    "\n",
    "    # 信息量大的特征（发现特征信息量比较小，说明这个特征效果不好）\n",
    "    classifier.show_most_informative_features(5)\n",
    "\n",
    "\n",
    "gender_classifier()"
   ]
  },
  {
   "cell_type": "code",
   "execution_count": 10,
   "metadata": {},
   "outputs": [],
   "source": [
    "# 在处理大型语料库时，构建包含所有实例特征的单独链表会占用大量的内存\n",
    "# apply_features 返回一个链表，但是不会在内存中存储所有特征集的对象\n",
    "from nltk.classify import apply_features\n",
    "\n",
    "train_set = apply_features(gender_features, labeled_names[500:])\n",
    "test_set = apply_features(gender_features, labeled_names[:500])"
   ]
  }
 ]
}