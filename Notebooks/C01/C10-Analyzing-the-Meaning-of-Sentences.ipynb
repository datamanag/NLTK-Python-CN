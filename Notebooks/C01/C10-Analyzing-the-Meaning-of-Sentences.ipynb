{
 "metadata": {
  "language_info": {
   "codemirror_mode": {
    "name": "ipython",
    "version": 3
   },
   "file_extension": ".py",
   "mimetype": "text/x-python",
   "name": "python",
   "nbconvert_exporter": "python",
   "pygments_lexer": "ipython3",
   "version": 3
  },
  "orig_nbformat": 2
 },
 "nbformat": 4,
 "nbformat_minor": 2,
 "cells": [
  {
   "source": [
    "# Ch10 分析句子的含义\n",
    "1.  自然语言的含义的表示，以及通过计算机进行处理\n",
    "2.  将意思表示无限制的语句集相关联\n",
    "3.  连接意思表示与句子的程序来存储信息"
   ],
   "cell_type": "markdown",
   "metadata": {}
  }
 ]
}