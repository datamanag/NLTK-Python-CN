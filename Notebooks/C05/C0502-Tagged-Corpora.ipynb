{
 "metadata": {
  "language_info": {
   "codemirror_mode": {
    "name": "ipython",
    "version": 3
   },
   "file_extension": ".py",
   "mimetype": "text/x-python",
   "name": "python",
   "nbconvert_exporter": "python",
   "pygments_lexer": "ipython3",
   "version": "3.6.7-final"
  },
  "orig_nbformat": 2,
  "kernelspec": {
   "name": "python3",
   "display_name": "DataAnalysis"
  }
 },
 "nbformat": 4,
 "nbformat_minor": 2,
 "cells": [
  {
   "cell_type": "code",
   "execution_count": 1,
   "metadata": {},
   "outputs": [],
   "source": [
    "import nltk\n",
    "from nltk import word_tokenize\n",
    "from nltk.corpus import brown\n",
    "from tools import *\n",
    "%matplotlib inline"
   ]
  },
  {
   "source": [
    "# Ch5 分类和标注词汇\n",
    "\n",
    "1.  什么是词汇分类，在自然语言处理中它们如何使用？\n",
    "2.  对于存储词汇和它们的分类来说什么是好的 Python 数据结构？\n",
    "3.  如何自动标注文本中每个词汇的词类？\n",
    "\n",
    "-   词性标注（parts-of-speech tagging，POS tagging）：简称标注。将词汇按照它们的词性（parts-of-speech，POS）进行分类并对它们进行标注\n",
    "-   词性：也称为词类或者词汇范畴。\n",
    "-   标记集：用于特定任务标记的集合。"
   ],
   "cell_type": "markdown",
   "metadata": {}
  },
  {
   "source": [
    "## Sec 5.2 标注语料库"
   ],
   "cell_type": "markdown",
   "metadata": {}
  },
  {
   "source": [
    "### 5.2.1 表示已经标注的标识符"
   ],
   "cell_type": "markdown",
   "metadata": {}
  },
  {
   "cell_type": "code",
   "execution_count": 2,
   "metadata": {},
   "outputs": [
    {
     "output_type": "stream",
     "name": "stdout",
     "text": [
      "taggen_token=  ('fly', 'NN')\ntaggen_token[0]=  fly\ntaggen_token[1]=  NN\n"
     ]
    }
   ],
   "source": [
    "# 5.2.1 表示已经标注的标识符\n",
    "# str2tuple() 将已经标注的字符串转换成元组\n",
    "taggen_token = nltk.tag.str2tuple('fly/NN')\n",
    "print(\"taggen_token= \",taggen_token)\n",
    "print(\"taggen_token[0]= \",taggen_token[0])\n",
    "print(\"taggen_token[1]= \", taggen_token[1])"
   ]
  },
  {
   "cell_type": "code",
   "execution_count": 3,
   "metadata": {},
   "outputs": [
    {
     "output_type": "stream",
     "name": "stdout",
     "text": [
      "sent.split()=  ['The/AT', 'grand/JJ', 'jury/NN', 'commented/VBD', 'on/IN', 'a/AT', 'number/NN', 'of/IN', 'other/AP', 'topics/NNS', ',/,', 'AMONG/IN', 'them/PPO', 'the/AT', 'Atlanta/NP', 'and/CC', 'Fulton/NP-tl', 'County/NN-tl', 'purchasing/VBG', 'departments/NNS', 'which/WDT', 'it/PPS', 'said/VBD', '``/``', 'ARE/BER', 'well/QL', 'operated/VBN', 'and/CC', 'follow/VB', 'generally/RB', 'accepted/VBN', 'practices/NNS', 'which/WDT', 'inure/VB', 'to/IN', 'the/AT', 'best/JJT', 'interest/NN', 'of/IN', 'both/ABX', 'governments/NNS', \"''/''\", './.']\n--------------- >split_sent_to_tuple< ---------------\n[('The', 'AT'), ('grand', 'JJ'), ('jury', 'NN'), ('commented', 'VBD'), ('on', 'IN'), ('a', 'AT'), ('number', 'NN'), ('of', 'IN'), ('other', 'AP'), ('topics', 'NNS'), (',', ','), ('AMONG', 'IN'), ('them', 'PPO'), ('the', 'AT'), ('Atlanta', 'NP'), ('and', 'CC'), ('Fulton', 'NP-TL'), ('County', 'NN-TL'), ('purchasing', 'VBG'), ('departments', 'NNS'), ('which', 'WDT'), ('it', 'PPS'), ('said', 'VBD'), ('``', '``'), ('ARE', 'BER'), ('well', 'QL'), ('operated', 'VBN'), ('and', 'CC'), ('follow', 'VB'), ('generally', 'RB'), ('accepted', 'VBN'), ('practices', 'NNS'), ('which', 'WDT'), ('inure', 'VB'), ('to', 'IN'), ('the', 'AT'), ('best', 'JJT'), ('interest', 'NN'), ('of', 'IN'), ('both', 'ABX'), ('governments', 'NNS'), (\"''\", \"''\"), ('.', '.')]\n"
     ]
    }
   ],
   "source": [
    "# 拆分已经标注的语料文本为元组\n",
    "sent = '''\n",
    "The/AT grand/JJ jury/NN commented/VBD on/IN a/AT number/NN of/IN\n",
    "other/AP topics/NNS ,/, AMONG/IN them/PPO the/AT Atlanta/NP and/CC\n",
    "Fulton/NP-tl County/NN-tl purchasing/VBG departments/NNS which/WDT it/PPS\n",
    "said/VBD ``/`` ARE/BER well/QL operated/VBN and/CC follow/VB generally/RB\n",
    "accepted/VBN practices/NNS which/WDT inure/VB to/IN the/AT best/JJT\n",
    "interest/NN of/IN both/ABX governments/NNS ''/'' ./.\n",
    "'''\n",
    "\n",
    "print(\"sent.split()= \", sent.split())\n",
    "split_sent_to_tuple = [nltk.tag.str2tuple(t) for t in sent.split()]\n",
    "show_subtitle(\"split_sent_to_tuple\")\n",
    "print(split_sent_to_tuple)"
   ]
  },
  {
   "source": [
    "### 5.2.2 读取已经标注的语料库"
   ],
   "cell_type": "markdown",
   "metadata": {}
  },
  {
   "cell_type": "code",
   "execution_count": 4,
   "metadata": {},
   "outputs": [
    {
     "output_type": "stream",
     "name": "stdout",
     "text": [
      "--------------- >brown.tagged_words()< ---------------\n",
      "[('The', 'AT'), ('Fulton', 'NP-TL'), ...]\n",
      "--------------- >brown.tagged_words(tagset='universal')< ---------------\n",
      "[('The', 'DET'), ('Fulton', 'NOUN'), ...]\n"
     ]
    }
   ],
   "source": [
    "# 打开brown语料库的ca01文件，可以看到下面的内容：\n",
    "# The/at Fulton/np-tl County/nn-tl Grand/jj-tl Jury/nn-tl said/vbd Friday/nr an/at\n",
    "# investigation/nn of/in Atlanta's/np$ recent/jj primary/nn election/nn produced/vbd\n",
    "# ``/`` no/at evidence/nn ''/'' that/cs any/dti irregularities/nns took/vbd place/nn ./.\n",
    "# 这个是已经标注好的语料库，可以使用函数tagged_words()直接读取\n",
    "\n",
    "# tagset='universal' 使用通用标注集进行词类标注\n",
    "show_subtitle(\"brown.tagged_words()\")\n",
    "print(brown.tagged_words())\n",
    "show_subtitle(\"brown.tagged_words(tagset='universal')\")\n",
    "print(brown.tagged_words(tagset='universal'))"
   ]
  },
  {
   "cell_type": "code",
   "execution_count": 5,
   "metadata": {},
   "outputs": [
    {
     "output_type": "stream",
     "name": "stdout",
     "text": [
      "--------------- >nltk.corpus.treebank.tagged_words()< ---------------\n",
      "[('Pierre', 'NNP'), ('Vinken', 'NNP'), (',', ','), ...]\n",
      "--------------- >nltk.corpus.treebank.tagged_words(tagset='universal')< ---------------\n",
      "[('Pierre', 'NOUN'), ('Vinken', 'NOUN'), (',', '.'), ...]\n"
     ]
    }
   ],
   "source": [
    "show_subtitle(\"nltk.corpus.treebank.tagged_words()\")\n",
    "print(nltk.corpus.treebank.tagged_words())\n",
    "show_subtitle(\"nltk.corpus.treebank.tagged_words(tagset='universal')\")\n",
    "print(nltk.corpus.treebank.tagged_words(tagset='universal'))"
   ]
  },
  {
   "cell_type": "code",
   "execution_count": 6,
   "metadata": {},
   "outputs": [
    {
     "output_type": "stream",
     "name": "stdout",
     "text": [
      "--------------- >nltk.corpus.nps_chat.tagged_words()< ---------------\n[('now', 'RB'), ('im', 'PRP'), ('left', 'VBD'), ...]\n--------------- >nltk.corpus.nps_chat.tagged_words(tagset='universal')< ---------------\n[('now', 'ADV'), ('im', 'PRON'), ('left', 'VERB'), ...]\n"
     ]
    }
   ],
   "source": [
    "show_subtitle(\"nltk.corpus.nps_chat.tagged_words()\")\n",
    "print(nltk.corpus.nps_chat.tagged_words())\n",
    "show_subtitle(\"nltk.corpus.nps_chat.tagged_words(tagset='universal')\")\n",
    "print(nltk.corpus.nps_chat.tagged_words(tagset='universal'))"
   ]
  },
  {
   "cell_type": "code",
   "execution_count": 7,
   "metadata": {},
   "outputs": [
    {
     "output_type": "stream",
     "name": "stdout",
     "text": [
      "--------------- >nltk.corpus.conll2000.tagged_words()< ---------------\n[('Confidence', 'NOUN'), ('in', 'ADP'), ('the', 'DET'), ...]\n--------------- >nltk.corpus.conll2000.tagged_words()< ---------------\n[('Confidence', 'NOUN'), ('in', 'ADP'), ('the', 'DET'), ...]\n"
     ]
    }
   ],
   "source": [
    "show_subtitle(\"nltk.corpus.conll2000.tagged_words()\")\n",
    "print(nltk.corpus.conll2000.tagged_words(tagset='universal'))\n",
    "show_subtitle(\"nltk.corpus.conll2000.tagged_words()\")\n",
    "print(nltk.corpus.conll2000.tagged_words(tagset='universal'))"
   ]
  },
  {
   "cell_type": "code",
   "execution_count": 8,
   "metadata": {},
   "outputs": [
    {
     "output_type": "stream",
     "name": "stdout",
     "text": [
      "--------------- >nltk.corpus.sinica_treebank.tagged_words()< ---------------\n[('一', 'Neu'), ('友情', 'Nad'), ('嘉珍', 'Nba'), ...]\n--------------- >nltk.corpus.sinica_treebank.tagged_words(tagset='universal')< ---------------\n"
     ]
    }
   ],
   "source": [
    "# Note:以下的都无法正常转换为通用标注集\n",
    "# 因为每个语言的标注集都是根据自己的情况定义的，不与通用标注集完全相同\n",
    "\n",
    "show_subtitle(\"nltk.corpus.sinica_treebank.tagged_words()\")\n",
    "print(nltk.corpus.sinica_treebank.tagged_words())\n",
    "show_subtitle(\"nltk.corpus.sinica_treebank.tagged_words(tagset='universal')\")\n",
    "# print(nltk.corpus.sinica_treebank.tagged_words(tagset='universal'))"
   ]
  },
  {
   "cell_type": "code",
   "execution_count": 9,
   "metadata": {},
   "outputs": [
    {
     "output_type": "stream",
     "name": "stdout",
     "text": [
      "--------------- >nltk.corpus.indian.tagged_words()< ---------------\n[('মহিষের', 'NN'), ('সন্তান', 'NN'), (':', 'SYM'), ...]\n--------------- >nltk.corpus.indian.tagged_words(tagset='universal')< ---------------\n"
     ]
    }
   ],
   "source": [
    "show_subtitle(\"nltk.corpus.indian.tagged_words()\")\n",
    "print(nltk.corpus.indian.tagged_words())\n",
    "show_subtitle(\"nltk.corpus.indian.tagged_words(tagset='universal')\")\n",
    "# print(nltk.corpus.indian.tagged_words(tagset='universal'))"
   ]
  },
  {
   "cell_type": "code",
   "execution_count": 10,
   "metadata": {},
   "outputs": [
    {
     "output_type": "stream",
     "name": "stdout",
     "text": [
      "--------------- >nltk.corpus.mac_morpho.tagged_words()< ---------------\n[('Jersei', 'N'), ('atinge', 'V'), ('média', 'N'), ...]\n--------------- >nltk.corpus.mac_morpho.tagged_words(tagset='universal')< ---------------\n"
     ]
    }
   ],
   "source": [
    "show_subtitle(\"nltk.corpus.mac_morpho.tagged_words()\")\n",
    "print(nltk.corpus.mac_morpho.tagged_words())\n",
    "show_subtitle(\"nltk.corpus.mac_morpho.tagged_words(tagset='universal')\")\n",
    "# print(nltk.corpus.mac_morpho.tagged_words(tagset='universal'))"
   ]
  },
  {
   "cell_type": "code",
   "execution_count": 11,
   "metadata": {},
   "outputs": [
    {
     "output_type": "stream",
     "name": "stdout",
     "text": [
      "--------------- >nltk.corpus.cess_cat.tagged_words()< ---------------\n",
      "[('El', 'da0ms0'), ('Tribunal_Suprem', 'np0000o'), ...]\n",
      "--------------- >nltk.corpus.cess_cat.tagged_words(tagset='universal')< ---------------\n"
     ]
    }
   ],
   "source": [
    "show_subtitle(\"nltk.corpus.cess_cat.tagged_words()\")\n",
    "print(nltk.corpus.cess_cat.tagged_words())\n",
    "show_subtitle(\"nltk.corpus.cess_cat.tagged_words(tagset='universal')\")\n",
    "# print(nltk.corpus.cess_cat.tagged_words(tagset='universal'))"
   ]
  },
  {
   "cell_type": "code",
   "execution_count": 12,
   "metadata": {},
   "outputs": [
    {
     "output_type": "stream",
     "name": "stdout",
     "text": [
      "--------------- >brown.tagged_sents()[0]< ---------------\n",
      "[('The', 'AT'), ('Fulton', 'NP-TL'), ('County', 'NN-TL'), ('Grand', 'JJ-TL'), ('Jury', 'NN-TL'), ('said', 'VBD'), ('Friday', 'NR'), ('an', 'AT'), ('investigation', 'NN'), ('of', 'IN'), (\"Atlanta's\", 'NP$'), ('recent', 'JJ'), ('primary', 'NN'), ('election', 'NN'), ('produced', 'VBD'), ('``', '``'), ('no', 'AT'), ('evidence', 'NN'), (\"''\", \"''\"), ('that', 'CS'), ('any', 'DTI'), ('irregularities', 'NNS'), ('took', 'VBD'), ('place', 'NN'), ('.', '.')]\n",
      "--------------- >brown.tagged_sents()[1]< ---------------\n",
      "[('The', 'AT'), ('jury', 'NN'), ('further', 'RBR'), ('said', 'VBD'), ('in', 'IN'), ('term-end', 'NN'), ('presentments', 'NNS'), ('that', 'CS'), ('the', 'AT'), ('City', 'NN-TL'), ('Executive', 'JJ-TL'), ('Committee', 'NN-TL'), (',', ','), ('which', 'WDT'), ('had', 'HVD'), ('over-all', 'JJ'), ('charge', 'NN'), ('of', 'IN'), ('the', 'AT'), ('election', 'NN'), (',', ','), ('``', '``'), ('deserves', 'VBZ'), ('the', 'AT'), ('praise', 'NN'), ('and', 'CC'), ('thanks', 'NNS'), ('of', 'IN'), ('the', 'AT'), ('City', 'NN-TL'), ('of', 'IN-TL'), ('Atlanta', 'NP-TL'), (\"''\", \"''\"), ('for', 'IN'), ('the', 'AT'), ('manner', 'NN'), ('in', 'IN'), ('which', 'WDT'), ('the', 'AT'), ('election', 'NN'), ('was', 'BEDZ'), ('conducted', 'VBN'), ('.', '.')]\n"
     ]
    }
   ],
   "source": [
    "# 使用tagged_sents()可以直接把语料库分割成句子，而不是将所有的词表示成一个链表，句子中的词同样进行了词类标注。\n",
    "# 因为开发的自动标注器需要在句子链表上进行训练和测试，而不是在词链表上。\n",
    "show_subtitle(\"brown.tagged_sents()[0]\")\n",
    "print(brown.tagged_sents()[0])\n",
    "show_subtitle(\"brown.tagged_sents()[1]\")\n",
    "print(brown.tagged_sents()[1])"
   ]
  },
  {
   "source": [
    "### 5.2.3 A Universal Part-of-Speech Tagset, 一个通用的（简化的）标注集\n",
    "http://www.nltk.org/book/ch05.html Table2.1 （比书P200 表5-1还要简单）\n",
    "\n",
    "| Tag  | Meaning             | English Examples                       |\n",
    "| ---- | ------------------- | -------------------------------------- |\n",
    "| Tag  | Meaning             | English Examples                       |\n",
    "| ADJ  | adjective           | new, good, high, special, big, local   |\n",
    "| ADP  | adposition          | on, of, at, with, by, into, under      |\n",
    "| ADV  | adverb              | really, already, still, early, now     |\n",
    "| CONJ | conjunction         | and, or, but, if, while, although      |\n",
    "| DET  | determiner, article | the, a, some, most, every, no, which   |\n",
    "| NOUN | noun                | year, home, costs, time, Africa        |\n",
    "| NUM  | numeral             | twenty-four, fourth, 1991, 14:24       |\n",
    "| PRT  | particle            | at, on, out, over per, that, up, with  |\n",
    "| PRON | pronoun             | he, their, her, its, my, I, us         |\n",
    "| VERB | verb                | is, say, told, given, playing, would   |\n",
    "| .    | punctuation marks   | . , ; !                                |\n",
    "| X    | other               | ersatz, esprit, dunno, gr8, univeristy |"
   ],
   "cell_type": "markdown",
   "metadata": {}
  },
  {
   "cell_type": "code",
   "execution_count": 13,
   "metadata": {},
   "outputs": [
    {
     "output_type": "stream",
     "name": "stdout",
     "text": [
      "list(tag_fd)=  ['NOUN', 'VERB', 'ADP', '.', 'DET', 'ADJ', 'ADV', 'CONJ', 'PRON', 'PRT', 'NUM', 'X']\ntag_fd.keys()=  dict_keys(['DET', 'NOUN', 'ADJ', 'VERB', 'ADP', '.', 'ADV', 'CONJ', 'PRT', 'PRON', 'NUM', 'X'])\ntag_fd.most_common()=  [('NOUN', 30654), ('VERB', 14399), ('ADP', 12355), ('.', 11928), ('DET', 11389), ('ADJ', 6706), ('ADV', 3349), ('CONJ', 2717), ('PRON', 2535), ('PRT', 2264), ('NUM', 2166), ('X', 92)]\n--------------- >tag_fd.tabulate()< ---------------\n NOUN  VERB   ADP     .   DET   ADJ   ADV  CONJ  PRON   PRT   NUM     X \n30654 14399 12355 11928 11389  6706  3349  2717  2535  2264  2166    92 \n"
     ]
    },
    {
     "output_type": "display_data",
     "data": {
      "text/plain": "<Figure size 432x288 with 1 Axes>",
      "image/png": "[encoded data removed]",
      "application/pdf": "[encoded data removed]"
     },
     "metadata": {
      "needs_background": "dark"
     }
    },
    {
     "output_type": "execute_result",
     "data": {
      "text/plain": [
       "<matplotlib.axes._subplots.AxesSubplot at 0xc2a5b00>"
      ]
     },
     "metadata": {},
     "execution_count": 13
    }
   ],
   "source": [
    "# 布朗语料库的新闻类中哪些标记最常见\n",
    "brown_news_tagged = brown.tagged_words(categories='news', tagset='universal')\n",
    "tag_fd = nltk.FreqDist(tag for (word, tag) in brown_news_tagged)\n",
    "print(\"list(tag_fd)= \", list(tag_fd))\n",
    "print(\"tag_fd.keys()= \",tag_fd.keys())\n",
    "print(\"tag_fd.most_common()= \",tag_fd.most_common())\n",
    "show_subtitle(\"tag_fd.tabulate()\")\n",
    "tag_fd.tabulate()\n",
    "tag_fd.plot()"
   ]
  },
  {
   "cell_type": "code",
   "execution_count": 14,
   "metadata": {},
   "outputs": [],
   "source": [
    "# 图形化的POS一致性工具，可以用来寻找任一词和POS标记的组合\n",
    "# 例如：\"VERB VERB\" 或者 \"was missing\" 或者 \"had VERB\" 或者 \"DET money\" 等等\n",
    "nltk.app.concordance()"
   ]
  },
  {
   "source": [
    "### 5.2.4 名词\n",
    "名词：一般指人、地点、事情和概念。可能出现在限定词和形容词之后，可以是动词的主语或者宾语。\n",
    "\n",
    "表5-2 名词的句法模式"
   ],
   "cell_type": "markdown",
   "metadata": {}
  },
  {
   "cell_type": "code",
   "execution_count": 15,
   "metadata": {
    "tags": []
   },
   "outputs": [
    {
     "output_type": "stream",
     "name": "stdout",
     "text": [
      "fdist.most_common()=  [('NOUN', 7959), ('DET', 7373), ('ADJ', 4761), ('ADP', 3781), ('.', 2796), ('VERB', 1842), ('CONJ', 938), ('NUM', 894), ('ADV', 186), ('PRT', 94), ('PRON', 19), ('X', 11)]\ntag_list=  ['NOUN', 'DET', 'ADJ', 'ADP', '.', 'VERB', 'CONJ', 'NUM', 'ADV', 'PRT', 'PRON', 'X']\n"
     ]
    },
    {
     "output_type": "display_data",
     "data": {
      "text/plain": "<Figure size 432x288 with 1 Axes>",
      "image/png": "[encoded data removed]",
      "application/pdf": "[encoded data removed]"
     },
     "metadata": {
      "needs_background": "dark"
     }
    },
    {
     "output_type": "execute_result",
     "data": {
      "text/plain": [
       "<matplotlib.axes._subplots.AxesSubplot at 0xc1d50b8>"
      ]
     },
     "metadata": {},
     "execution_count": 15
    }
   ],
   "source": [
    "# 统计构成二元模型（W1，W2）中W2=‘NOUN’的W1的词性的比例\n",
    "brown_news_tagged = brown.tagged_words(categories='news', tagset='universal')\n",
    "word_tag_pairs = nltk.bigrams(brown_news_tagged)  # 构建双词链表\n",
    "noun_precedes = [\n",
    "        a[1]\n",
    "        for (a, b) in word_tag_pairs\n",
    "        if b[1] == 'NOUN'\n",
    "]\n",
    "fdist = nltk.FreqDist(noun_precedes)\n",
    "print(\"fdist.most_common()= \", fdist.most_common())\n",
    "tag_list = [\n",
    "        tag\n",
    "        for (tag, _) in fdist.most_common()\n",
    "]\n",
    "print(\"tag_list= \", tag_list)\n",
    "fdist.plot()\n",
    "# 结论：名词最容易出现在名词后面\n",
    "# 其次是出现在限定词和形容词之后，包括数字形容词（即数词，标注为NUM）"
   ]
  },
  {
   "source": [
    "# 5.2.5 动词\n",
    "动词：描述事件和行动的词。在句子中，动词通常表示涉及一个或多个名词短语所指示物的关系。\n",
    "\n",
    "表5-3 动词的句法模式"
   ],
   "cell_type": "markdown",
   "metadata": {}
  },
  {
   "cell_type": "code",
   "execution_count": 16,
   "metadata": {
    "tags": []
   },
   "outputs": [
    {
     "output_type": "stream",
     "name": "stdout",
     "text": [
      "--------------- >word_tag_fd.most_common(20)< ---------------\n[((',', '.'), 4885), (('the', 'DET'), 4038), (('.', '.'), 3828), (('of', 'ADP'), 2319), (('to', 'PRT'), 2161), (('a', 'DET'), 1874), (('in', 'ADP'), 1554), (('and', 'CONJ'), 1505), (('*-1', 'X'), 1123), (('0', 'X'), 1099), (('*', 'X'), 965), (('for', 'ADP'), 815), (('*T*-1', 'X'), 806), ((\"'s\", 'PRT'), 761), (('*U*', 'X'), 744), (('$', '.'), 718), (('The', 'DET'), 713), (('``', '.'), 702), ((\"''\", '.'), 684), (('is', 'VERB'), 671)]\n--------------- >word_tag_list[:20]< ---------------\n['is', 'said', 'was', 'are', 'be', 'has', 'have', 'will', 'says', 'would', 'were', 'had', 'been', 'could', \"'s\", 'can', 'do', 'say', 'make', 'may']\n--------------- >fdist.most_common(20)< ---------------\n[((',', '.'), 4885), (('the', 'DET'), 4038), (('.', '.'), 3828), (('of', 'ADP'), 2319), (('to', 'PRT'), 2161), (('a', 'DET'), 1874), (('in', 'ADP'), 1554), (('and', 'CONJ'), 1505), (('*-1', 'X'), 1123), (('0', 'X'), 1099), (('*', 'X'), 965), (('for', 'ADP'), 815), (('*T*-1', 'X'), 806), ((\"'s\", 'PRT'), 761), (('*U*', 'X'), 744), (('$', '.'), 718), (('The', 'DET'), 713), (('``', '.'), 702), ((\"''\", '.'), 684), (('is', 'VERB'), 671)]\n"
     ]
    }
   ],
   "source": [
    "# 找出新闻文本中最常见的动词（频率分布中计算的项目是词——标记对）\n",
    "wsj = nltk.corpus.treebank.tagged_words(tagset='universal')\n",
    "word_tag_fd = nltk.FreqDist(wsj)\n",
    "show_subtitle(\"word_tag_fd.most_common(20)\")\n",
    "print(word_tag_fd.most_common(20))\n",
    "word_tag_list = [\n",
    "        wt[0]\n",
    "        for (wt, _) in word_tag_fd.most_common()\n",
    "        if wt[1] == 'VERB'\n",
    "]\n",
    "show_subtitle(\"word_tag_list[:20]\")\n",
    "print(word_tag_list[:20])\n",
    "\n",
    "# 对做过一次频率统计的输出的结果再做一次频率统计结果不变\n",
    "fdist = nltk.FreqDist(word_tag_fd)\n",
    "show_subtitle(\"fdist.most_common(20)\")\n",
    "print(fdist.most_common(20))\n",
    "# fdist.plot(cumulative=True)   # 不能执行，会死机，因为动词单词数目太多"
   ]
  },
  {
   "cell_type": "code",
   "execution_count": 17,
   "metadata": {
    "tags": []
   },
   "outputs": [
    {
     "output_type": "stream",
     "name": "stdout",
     "text": [
      "fdist.most_common()=  [('NOUN', 4240), ('VERB', 2292), ('X', 1354), ('PRON', 1329), ('PRT', 1291), ('ADV', 1093), ('.', 1040), ('CONJ', 355), ('DET', 346), ('ADP', 82), ('ADJ', 77), ('NUM', 65)]\n--------------- >fdist.tabulate()< ---------------\nNOUN VERB    X PRON  PRT  ADV    . CONJ  DET  ADP  ADJ  NUM \n4240 2292 1354 1329 1291 1093 1040  355  346   82   77   65 \n"
     ]
    },
    {
     "output_type": "display_data",
     "data": {
      "text/plain": "<Figure size 432x288 with 1 Axes>",
      "image/png": "[encoded data removed]",
      "application/pdf": "[encoded data removed]"
     },
     "metadata": {
      "needs_background": "dark"
     }
    },
    {
     "output_type": "execute_result",
     "data": {
      "text/plain": [
       "<matplotlib.axes._subplots.AxesSubplot at 0xd8180b8>"
      ]
     },
     "metadata": {},
     "execution_count": 17
    }
   ],
   "source": [
    "wsj = nltk.corpus.treebank.tagged_words(tagset='universal')\n",
    "word_tag_pairs = nltk.bigrams(wsj)\n",
    "verb_preceders = [\n",
    "        a[1]\n",
    "        for (a, b) in word_tag_pairs\n",
    "        if b[1] == 'VERB'\n",
    "]\n",
    "fdist = nltk.FreqDist(verb_preceders)\n",
    "print(\"fdist.most_common()= \", fdist.most_common())\n",
    "show_subtitle(\"fdist.tabulate()\")\n",
    "fdist.tabulate()\n",
    "fdist.plot()\n",
    "# 结论：动词出现在名词、动词、名字和副词后面。"
   ]
  },
  {
   "cell_type": "code",
   "execution_count": 18,
   "metadata": {
    "tags": []
   },
   "outputs": [
    {
     "output_type": "stream",
     "name": "stdout",
     "text": [
      "list(cfd1)[:20]=  ['Pierre', 'Vinken', ',', '61', 'years', 'old', 'will', 'join', 'the', 'board', 'as', 'a', 'nonexecutive', 'director', 'Nov.', '29', '.', 'Mr.', 'is', 'chairman']\ncfd1['yield'].most_common(20)=  [('VERB', 28), ('NOUN', 20)]\ncfd1['cut'].most_common(20)=  [('VERB', 25), ('NOUN', 3)]\n"
     ]
    }
   ],
   "source": [
    "# 因为词汇和标记是成对的\n",
    "# 所以把词汇作为条件，把标记作为事件，使用条件——事件对的链表初始化条件频率分布。\n",
    "wsj = nltk.corpus.treebank.tagged_words(tagset='universal')\n",
    "cfd1 = nltk.ConditionalFreqDist(wsj)\n",
    "print(\"list(cfd1)[:20]= \", list(cfd1)[:20])\n",
    "print(\"cfd1['yield'].most_common(20)= \", cfd1['yield'].most_common(20))\n",
    "print(\"cfd1['cut'].most_common(20)= \", cfd1['cut'].most_common(20))\n",
    "# 动词太多，执行时间过长，显示效果不好\n",
    "# cfd1.tabulate()\n",
    "# cfd1.plot()"
   ]
  },
  {
   "cell_type": "code",
   "execution_count": 19,
   "metadata": {},
   "outputs": [
    {
     "output_type": "stream",
     "name": "stdout",
     "text": [
      "cfd2=  <ConditionalFreqDist with 46 conditions>\ncfd2['VBN']=  <FreqDist with 692 samples and 2134 outcomes>\n--------------- >cfd2['VBN'].most_common(20)< ---------------\n[('been', 150), ('expected', 52), ('made', 33), ('compared', 32), ('based', 31), ('used', 26), ('priced', 26), ('sold', 25), ('named', 20), ('designed', 20), ('held', 18), ('fined', 18), ('taken', 16), ('paid', 15), ('traded', 15), ('increased', 14), ('said', 14), ('filed', 13), ('reached', 13), ('called', 13)]\n--------------- >list(cfd2['VBN'].keys())[:20]< ---------------\n['named', 'used', 'caused', 'exposed', 'reported', 'replaced', 'sold', 'died', 'expected', 'diagnosed', 'studied', 'industrialized', 'owned', 'found', 'classified', 'rejected', 'outlawed', 'imported', 'tracked', 'thought']\n--------------- >cfd2['VBN'].most_common(20)< ---------------\n[('been', 150), ('expected', 52), ('made', 33), ('compared', 32), ('based', 31), ('used', 26), ('priced', 26), ('sold', 25), ('named', 20), ('designed', 20), ('held', 18), ('fined', 18), ('taken', 16), ('paid', 15), ('traded', 15), ('increased', 14), ('said', 14), ('filed', 13), ('reached', 13), ('called', 13)]\n--------------- >in< ---------------\n'been' in cfd2['VBN'].keys()=  True\n"
     ]
    }
   ],
   "source": [
    "# 也可以颠倒配对，把标记作为条件，词汇作为事件，生成条件频率分布，就可以直接查找标记对应哪些词了。\n",
    "wsj = nltk.corpus.treebank.tagged_words()\n",
    "cfd2 = nltk.ConditionalFreqDist((tag, word) for (word, tag) in wsj)\n",
    "print(\"cfd2= \", cfd2)\n",
    "print(\"cfd2['VBN']= \", cfd2['VBN'])\n",
    "show_subtitle(\"cfd2['VBN'].most_common(20)\")\n",
    "print(cfd2['VBN'].most_common(20))\n",
    "show_subtitle(\"list(cfd2['VBN'].keys())[:20]\")\n",
    "print(list(cfd2['VBN'].keys())[:20])\n",
    "show_subtitle(\"cfd2['VBN'].most_common(20)\")\n",
    "print(cfd2['VBN'].most_common(20))\n",
    "show_subtitle(\"in\")\n",
    "print(\"'been' in cfd2['VBN'].keys()= \", 'been' in cfd2['VBN'].keys())"
   ]
  },
  {
   "cell_type": "code",
   "execution_count": 20,
   "metadata": {},
   "outputs": [
    {
     "output_type": "stream",
     "name": "stdout",
     "text": [
      "--------------- >cfd3.conditions()[:20]< ---------------\n",
      "['Pierre', 'Vinken', ',', '61', 'years', 'old', 'will', 'join', 'the', 'board', 'as', 'a', 'nonexecutive', 'director', 'Nov.', '29', '.', 'Mr.', 'is', 'chairman']\n",
      "--------------- >list(cfd3.keys())[:20]< ---------------\n",
      "['Pierre', 'Vinken', ',', '61', 'years', 'old', 'will', 'join', 'the', 'board', 'as', 'a', 'nonexecutive', 'director', 'Nov.', '29', '.', 'Mr.', 'is', 'chairman']\n",
      "--------------- >word_list[:20]< ---------------\n",
      "['named', 'used', 'caused', 'reported', 'said', 'stopped', 'heard', 'studied', 'led', 'replaced', 'sold', 'worked', 'died', 'found', 'rejected', 'imposed', 'made', 'dumped', 'imported', 'mixed']\n",
      "--------------- >idx1< ---------------\n",
      "stock 0 they had *T*-1 . While program trades swiftly kicked in , a `` circuit breaker '' that *T*-1\n",
      "--------------- >idx2< ---------------\n",
      "-- the first time 0 a head of state has kicked off an issue at the Big Board here *T*-1\n"
     ]
    }
   ],
   "source": [
    "# 尝试分辨VD（过去式）和VN（过去分词）之间的区别\n",
    "# 先找出同是VD和VN的词汇，然后分析它们的上下文区别\n",
    "wsj = nltk.corpus.treebank.tagged_words()\n",
    "cfd3 = nltk.ConditionalFreqDist(wsj)\n",
    "# cfd.conditions() 返回所有的条件构成的链表，等价于list(cfd1.keys())返回所有的关键字。\n",
    "show_subtitle(\"cfd3.conditions()[:20]\")\n",
    "print(cfd3.conditions()[:20])\n",
    "show_subtitle(\"list(cfd3.keys())[:20]\")\n",
    "print(list(cfd3.keys())[:20])\n",
    "# 寻找既可以作为 VBD 还可以作为 VBN 的单词\n",
    "word_list = [\n",
    "        w\n",
    "        for w in cfd3.conditions()\n",
    "        if 'VBD' in cfd3[w] and 'VBN' in cfd3[w]\n",
    "]\n",
    "show_subtitle(\"word_list[:20]\")\n",
    "print(word_list[:20])\n",
    "# kicked 作为 VBD 的示例句子\n",
    "idx1 = wsj.index(('kicked', 'VBD'))\n",
    "show_subtitle(\"idx1\")\n",
    "print(' '.join(word for word, tag in wsj[idx1 - 10:idx1 + 10]))\n",
    "# kicked 作为 VBN 的示例句子\n",
    "idx2 = wsj.index(('kicked', 'VBN'))\n",
    "show_subtitle(\"idx2\")\n",
    "print(' '.join(word for word, tag in wsj[idx2 - 10:idx2 + 10]))"
   ]
  },
  {
   "source": [
    "### 5.2.6 其他词类\n",
    "（形容词、副词、介词、冠词（限定词）、情态动词、人称代词）\n",
    "-   形容词：修饰名词，可以作为修饰符 或 谓语。\n",
    "-   副词：修饰动词，指定时间、方式、地点或动词描述的事件发展方向；修饰形容词。"
   ],
   "cell_type": "markdown",
   "metadata": {}
  },
  {
   "source": [
    "### 5.2.7 未简化的标记(P204)"
   ],
   "cell_type": "markdown",
   "metadata": {}
  },
  {
   "cell_type": "code",
   "execution_count": 21,
   "metadata": {},
   "outputs": [
    {
     "output_type": "stream",
     "name": "stdout",
     "text": [
      "NN [('year', 137), ('time', 97), ('state', 88), ('week', 85), ('man', 72)]\nNN$ [(\"year's\", 13), (\"world's\", 8), (\"state's\", 7), (\"nation's\", 6), (\"city's\", 6)]\nNN$-HL [(\"Golf's\", 1), (\"Navy's\", 1)]\nNN$-TL [(\"President's\", 11), (\"Administration's\", 3), (\"Army's\", 3), (\"League's\", 3), (\"University's\", 3)]\nNN-HL [('sp.', 2), ('problem', 2), ('Question', 2), ('cut', 2), ('party', 2)]\nNN-NC [('ova', 1), ('eva', 1), ('aya', 1)]\nNN-TL [('President', 88), ('House', 68), ('State', 59), ('University', 42), ('City', 41)]\nNN-TL-HL [('Fort', 2), ('Mayor', 1), ('Commissioner', 1), ('City', 1), ('Oak', 1)]\nNNS [('years', 101), ('members', 69), ('people', 52), ('sales', 51), ('men', 46)]\nNNS$ [(\"children's\", 7), (\"women's\", 5), (\"men's\", 3), (\"janitors'\", 3), (\"taxpayers'\", 2)]\nNNS$-HL [(\"Dealers'\", 1), (\"Idols'\", 1)]\nNNS$-TL [(\"Women's\", 4), (\"States'\", 3), (\"Giants'\", 2), (\"Princes'\", 1), (\"Bombers'\", 1)]\nNNS-HL [('Wards', 1), ('deputies', 1), ('bonds', 1), ('aspects', 1), ('Decisions', 1)]\nNNS-TL [('States', 38), ('Nations', 11), ('Masters', 10), ('Communists', 9), ('Rules', 9)]\nNNS-TL-HL [('Nations', 1)]\n"
     ]
    }
   ],
   "source": [
    "# Ex5-1 找出最频繁的名词标记的程序\n",
    "def find_tags(tag_prefix, tagged_text):\n",
    "    cfd = nltk.ConditionalFreqDist(\n",
    "            (tag, word)\n",
    "            for (word, tag) in tagged_text\n",
    "            if tag.startswith(tag_prefix))\n",
    "    return dict(\n",
    "            (tag, cfd[tag].most_common(5))\n",
    "            for tag in cfd.conditions()\n",
    "    )\n",
    "\n",
    "\n",
    "brown_tagged_words = brown.tagged_words(categories='news')\n",
    "tag_dict = find_tags('NN', brown_tagged_words)\n",
    "for tag in sorted(tag_dict):\n",
    "    print(tag, tag_dict[tag])"
   ]
  },
  {
   "source": [
    "### 5.2.8 探索已经标注的语料库"
   ],
   "cell_type": "markdown",
   "metadata": {}
  },
  {
   "cell_type": "code",
   "execution_count": 22,
   "metadata": {},
   "outputs": [
    {
     "output_type": "stream",
     "name": "stdout",
     "text": [
      "[',', '.', 'accomplished', 'analytically', 'appear', 'apt', 'associated', 'assuming', 'became', 'become', 'been', 'began', 'call', 'called', 'carefully', 'chose', 'classified', 'colorful', 'composed', 'contain', 'differed', 'difficult', 'encountered', 'enough', 'equate', 'extremely', 'found', 'happens', 'have', 'ignored', 'in', 'involved', 'more', 'needed', 'nightly', 'observed', 'of', 'on', 'out', 'quite', 'represent', 'responsible', 'revamped', 'seclude', 'set', 'shortened', 'sing', 'sounded', 'stated', 'still', 'sung', 'supported', 'than', 'to', 'when', 'work']\n"
     ]
    }
   ],
   "source": [
    "# 观察 often 后面的词汇\n",
    "brown_learned_text = brown.words(categories='learned')\n",
    "print(sorted(set(\n",
    "        b\n",
    "        for (a, b) in nltk.bigrams(brown_learned_text)\n",
    "        if a == 'often'\n",
    ")))"
   ]
  },
  {
   "cell_type": "code",
   "execution_count": 23,
   "metadata": {
    "tags": []
   },
   "outputs": [
    {
     "output_type": "stream",
     "name": "stdout",
     "text": [
      "brown_learned_bigrams=  <generator object bigrams at 0x00000000082C7A40>\n",
      "--------------- >a_b_list< ---------------\n",
      "[(('1', 'NUM'), ('.', '.')), (('.', '.'), ('Introduction', 'NOUN')), (('Introduction', 'NOUN'), ('It', 'PRON')), (('It', 'PRON'), ('has', 'VERB')), (('has', 'VERB'), ('recently', 'ADV')), (('recently', 'ADV'), ('become', 'VERB')), (('become', 'VERB'), ('practical', 'ADJ')), (('practical', 'ADJ'), ('to', 'PRT')), (('to', 'PRT'), ('use', 'VERB')), (('use', 'VERB'), ('the', 'DET')), (('the', 'DET'), ('radio', 'NOUN')), (('radio', 'NOUN'), ('emission', 'NOUN')), (('emission', 'NOUN'), ('of', 'ADP')), (('of', 'ADP'), ('the', 'DET')), (('the', 'DET'), ('moon', 'NOUN')), (('moon', 'NOUN'), ('and', 'CONJ')), (('and', 'CONJ'), ('planets', 'NOUN')), (('planets', 'NOUN'), ('as', 'ADP')), (('as', 'ADP'), ('a', 'DET')), (('a', 'DET'), ('new', 'ADJ'))]\n"
     ]
    }
   ],
   "source": [
    "brown_learned_tagged = brown.tagged_words(categories='learned', tagset='universal')\n",
    "brown_learned_bigrams = nltk.bigrams(brown_learned_tagged)\n",
    "print(\"brown_learned_bigrams= \",brown_learned_bigrams)\n",
    "a_b_list = [\n",
    "        (a, b)\n",
    "        for (a, b) in brown_learned_bigrams\n",
    "]\n",
    "show_subtitle(\"a_b_list\")\n",
    "print(a_b_list[:20])"
   ]
  },
  {
   "cell_type": "code",
   "execution_count": 24,
   "metadata": {},
   "outputs": [
    {
     "output_type": "stream",
     "name": "stdout",
     "text": [
      "VERB  ADV  ADP  ADJ    .  PRT \n  37    8    7    6    4    2 \n"
     ]
    },
    {
     "output_type": "display_data",
     "data": {
      "text/plain": "<Figure size 432x288 with 1 Axes>",
      "image/png": "[encoded data removed]",
      "application/pdf": "[encoded data removed]"
     },
     "metadata": {
      "needs_background": "dark"
     }
    },
    {
     "output_type": "execute_result",
     "data": {
      "text/plain": [
       "<matplotlib.axes._subplots.AxesSubplot at 0x12d6d9b0>"
      ]
     },
     "metadata": {},
     "execution_count": 24
    }
   ],
   "source": [
    "# 观察 often 后面的词汇\n",
    "tags = [\n",
    "        b[1]\n",
    "        for (a, b) in nltk.bigrams(brown_learned_tagged)\n",
    "        if a[0] == 'often'\n",
    "]\n",
    "fd = nltk.FreqDist(tags)\n",
    "fd.tabulate()\n",
    "fd.plot()"
   ]
  },
  {
   "cell_type": "code",
   "execution_count": 25,
   "metadata": {
    "tags": []
   },
   "outputs": [
    {
     "output_type": "stream",
     "name": "stdout",
     "text": [
      "combined to achieve\ncontinue to place\nserve to protect\nwanted to wait\nallowed to place\nexpected to become\nexpected to approve\nexpected to make\nintends to make\nseek to set\nlike to see\n"
     ]
    }
   ],
   "source": [
    "# P205 Ex5-2 使用POS标记寻找三词短语(<Verb>to<Verb>)\n",
    "def process(sentence):\n",
    "    for (w1, t1), (w2, t2), (w3, t3) in nltk.trigrams(sentence):\n",
    "        if t1.startswith('V') and t2 == 'TO' and t3.startswith('V'):\n",
    "            print(w1, w2, w3)\n",
    "\n",
    "\n",
    "for i, tagged_sent in enumerate(brown.tagged_sents()):\n",
    "    if i < 100 and len(tagged_sent) >= 3:\n",
    "        process(tagged_sent)"
   ]
  },
  {
   "cell_type": "code",
   "execution_count": 26,
   "metadata": {},
   "outputs": [
    {
     "output_type": "stream",
     "name": "stdout",
     "text": [
      "best ADJ ADV VERB NOUN\nclose ADV ADJ VERB NOUN\nopen ADJ VERB NOUN ADV\npresent ADJ ADV NOUN VERB\nthat ADP DET PRON ADV\n"
     ]
    }
   ],
   "source": [
    "brown_news_tagged = brown.tagged_words(categories='news', tagset='universal')\n",
    "data = nltk.ConditionalFreqDist((word.lower(), tag) for (word, tag) in brown_news_tagged)\n",
    "for word in sorted(data.conditions()):\n",
    "    if len(data[word]) > 3:\n",
    "        tags = [\n",
    "                tag\n",
    "                for (tag, _) in data[word].most_common()\n",
    "        ]\n",
    "        print(word, ' '.join(tags))"
   ]
  },
  {
   "cell_type": "code",
   "execution_count": 27,
   "metadata": {},
   "outputs": [],
   "source": [
    "nltk.app.concordance()"
   ]
  },
  {
   "cell_type": "code",
   "execution_count": 28,
   "metadata": {
    "tags": []
   },
   "outputs": [
    {
     "output_type": "stream",
     "name": "stdout",
     "text": [
      "data['works']=  <FreqDist with 2 samples and 9 outcomes>\ndata['$1']=  <FreqDist with 1 samples and 5 outcomes>\ndata['$222']=  <FreqDist with 0 samples and 0 outcomes>\n"
     ]
    }
   ],
   "source": [
    "print(\"data['works']= \", data['works'])\n",
    "print(\"data['$1']= \", data['$1'])\n",
    "print(\"data['$222']= \", data['$222'])"
   ]
  },
  {
   "cell_type": "code",
   "execution_count": 29,
   "metadata": {
    "tags": []
   },
   "outputs": [
    {
     "output_type": "stream",
     "name": "stdout",
     "text": [
      "--------------- >data.conditions()< ---------------\n['the', 'fulton', 'county', 'grand', 'jury', 'said', 'friday', 'an', 'investigation', 'of', \"atlanta's\", 'recent', 'primary', 'election', 'produced', '``', 'no', 'evidence', \"''\", 'that']\n"
     ]
    }
   ],
   "source": [
    "# data.tabulate()  # 执行结果过多，时间过长\n",
    "show_subtitle(\"data.conditions()\")\n",
    "print(data.conditions()[:20])"
   ]
  },
  {
   "cell_type": "code",
   "execution_count": 30,
   "metadata": {},
   "outputs": [
    {
     "output_type": "stream",
     "name": "stdout",
     "text": [
      "=============== >data.values()< ===============\n--------------- >the< ---------------\n6386,\n--------------- >fulton< ---------------\n14,\n--------------- >county< ---------------\n61,\n--------------- >grand< ---------------\n18,1,\n--------------- >jury< ---------------\n46,\n--------------- >said< ---------------\n406,\n--------------- >friday< ---------------\n41,\n--------------- >an< ---------------\n311,\n--------------- >investigation< ---------------\n11,\n--------------- >of< ---------------\n2861,\n--------------- >atlanta's< ---------------\n4,\n--------------- >recent< ---------------\n20,\n--------------- >primary< ---------------\n13,4,\n--------------- >election< ---------------\n41,\n--------------- >produced< ---------------\n6,\n--------------- >``< ---------------\n732,\n--------------- >no< ---------------\n112,8,\n--------------- >evidence< ---------------\n17,\n--------------- >''< ---------------\n702,\n--------------- >that< ---------------\n546,128,150,5,\n"
     ]
    }
   ],
   "source": [
    "show_title(\"data.values()\")\n",
    "# print(data.values())  # 执行结果过多，时间过长\n",
    "for i, (cfd_key, cfd_value) in enumerate(zip(data.keys(), data.values())):\n",
    "    if i < 20:\n",
    "        show_subtitle(cfd_key)\n",
    "        for j, fd_value in enumerate(cfd_value.values()):\n",
    "            print(fd_value, end=',')\n",
    "        print()"
   ]
  }
 ]
}