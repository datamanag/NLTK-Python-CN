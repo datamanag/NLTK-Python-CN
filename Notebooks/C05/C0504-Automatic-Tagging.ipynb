{
 "metadata": {
  "language_info": {
   "codemirror_mode": {
    "name": "ipython",
    "version": 3
   },
   "file_extension": ".py",
   "mimetype": "text/x-python",
   "name": "python",
   "nbconvert_exporter": "python",
   "pygments_lexer": "ipython3",
   "version": "3.6.7-final"
  },
  "orig_nbformat": 2,
  "kernelspec": {
   "name": "python3",
   "display_name": "DataAnalysis"
  }
 },
 "nbformat": 4,
 "nbformat_minor": 2,
 "cells": [
  {
   "cell_type": "code",
   "execution_count": 1,
   "metadata": {},
   "outputs": [],
   "source": [
    "import nltk\n",
    "import pylab\n",
    "from nltk import word_tokenize\n",
    "from nltk.corpus import brown\n",
    "from tools import show_subtitle\n",
    "%matplotlib inline"
   ]
  },
  {
   "source": [
    "# Ch5 分类和标注词汇\n",
    "\n",
    "1.  什么是词汇分类，在自然语言处理中它们如何使用？\n",
    "2.  对于存储词汇和它们的分类来说什么是好的 Python 数据结构？\n",
    "3.  如何自动标注文本中每个词汇的词类？\n",
    "\n",
    "-   词性标注（parts-of-speech tagging，POS tagging）：简称标注。将词汇按照它们的词性（parts-of-speech，POS）进行分类并对它们进行标注\n",
    "-   词性：也称为词类或者词汇范畴。\n",
    "-   标记集：用于特定任务标记的集合。"
   ],
   "cell_type": "markdown",
   "metadata": {}
  },
  {
   "source": [
    "### 5.4 自动标注（利用不同的方式给文本自动添加词性标记）"
   ],
   "cell_type": "markdown",
   "metadata": {}
  },
  {
   "cell_type": "code",
   "execution_count": 2,
   "metadata": {},
   "outputs": [],
   "source": [
    "brown_tagged_sents = brown.tagged_sents(categories='news')\n",
    "brown_sents = brown.sents(categories='news')\n",
    "brown_tagged_words = brown.tagged_words(categories='news')\n",
    "brown_words = brown.words(categories='news')"
   ]
  },
  {
   "source": [
    "### 5.4.1 默认标注器"
   ],
   "cell_type": "markdown",
   "metadata": {}
  },
  {
   "cell_type": "code",
   "execution_count": 3,
   "metadata": {},
   "outputs": [
    {
     "output_type": "execute_result",
     "data": {
      "text/plain": [
       "'NN'"
      ]
     },
     "metadata": {},
     "execution_count": 3
    }
   ],
   "source": [
    "# 寻找在布朗语料库中新闻类文本使用次数最多的标记\n",
    "tags = [tag for (word, tag) in brown.tagged_words(categories='news')]\n",
    "nltk.FreqDist(tags).max()"
   ]
  },
  {
   "cell_type": "code",
   "execution_count": 4,
   "metadata": {},
   "outputs": [
    {
     "output_type": "execute_result",
     "data": {
      "text/plain": [
       "0.13089484257215028"
      ]
     },
     "metadata": {},
     "execution_count": 4
    }
   ],
   "source": [
    "# 因为 'NN' 是使用次数最多的标记，因此设置它为默认标注\n",
    "raw = 'I do not lie green eggs and ham, I do not like them Sam I am!'\n",
    "tokens = nltk.word_tokenize(raw)\n",
    "default_tagger = nltk.DefaultTagger('NN')\n",
    "default_tagger.tag(tokens)\n",
    "default_tagger.evaluate(brown_tagged_sents)  # 评测默认标注的正确率"
   ]
  },
  {
   "source": [
    "### 5.4.2 正则表达式标注器"
   ],
   "cell_type": "markdown",
   "metadata": {}
  },
  {
   "cell_type": "code",
   "execution_count": 5,
   "metadata": {},
   "outputs": [
    {
     "output_type": "execute_result",
     "data": {
      "text/plain": [
       "0.21873819042504525"
      ]
     },
     "metadata": {},
     "execution_count": 5
    }
   ],
   "source": [
    "patterns = [\n",
    "        (r'.*ing$', 'VBG'),  # gerunds\n",
    "        (r'.*ed$', 'VBD'),  # simple past\n",
    "        (r'.*es$', 'VBZ'),  # 3rd singular present\n",
    "        (r'.*ould$', 'MD'),  # modals\n",
    "        (r'.*\\'s$', 'NN$'),  # possessive nouns\n",
    "        (r'.*s$', 'NNS'),  # plural nouns\n",
    "        (r'(a|an)', 'AT'),\n",
    "        (r'^-?[0-9]+(.[0-9]+)?$', 'CD'),  # cardinal numbers\n",
    "        (r'.*', 'NN')  # nouns (default)\n",
    "]\n",
    "regexp_tagger = nltk.RegexpTagger(patterns)\n",
    "regexp_tagger.tag(brown_sents[3])  # 是标注的文本\n",
    "regexp_tagger.evaluate(brown_tagged_sents)  # brown_tagged_sents 是测试集"
   ]
  },
  {
   "source": [
    "### 5.4.3 查询标注器"
   ],
   "cell_type": "markdown",
   "metadata": {}
  },
  {
   "cell_type": "code",
   "execution_count": 6,
   "metadata": {},
   "outputs": [
    {
     "output_type": "stream",
     "name": "stdout",
     "text": [
      "cfd['the']=  <FreqDist with 3 samples and 5580 outcomes>\n"
     ]
    }
   ],
   "source": [
    "# 找出 100 个最频繁的词，存储它们最有可能的标记，然后使用这个信息作为“查找标注器”的模型\n",
    "fd = nltk.FreqDist(brown_words)\n",
    "cfd = nltk.ConditionalFreqDist(brown_tagged_words)\n",
    "most_freq_words = fd.most_common(100)\n",
    "likely_tags = dict(\n",
    "        (word, cfd[word].max())\n",
    "        for (word, _) in most_freq_words\n",
    ")\n",
    "print(\"cfd['the']= \", cfd['the'])"
   ]
  },
  {
   "cell_type": "code",
   "execution_count": 7,
   "metadata": {},
   "outputs": [
    {
     "output_type": "execute_result",
     "data": {
      "text/plain": [
       "0.45578495136941344"
      ]
     },
     "metadata": {},
     "execution_count": 7
    }
   ],
   "source": [
    "# 一元语法模型，统计词料库中每个单词标注最多的词性作为一元语法模型的建立基础\n",
    "baseline_tagger = nltk.UnigramTagger(model=likely_tags)\n",
    "baseline_tagger.evaluate(brown_tagged_sents)"
   ]
  },
  {
   "cell_type": "code",
   "execution_count": 8,
   "metadata": {},
   "outputs": [
    {
     "output_type": "stream",
     "name": "stdout",
     "text": [
      "sent=  ['``', 'Only', 'a', 'relative', 'handful', 'of', 'such', 'reports', 'was', 'received', \"''\", ',', 'the', 'jury', 'said', ',', '``', 'considering', 'the', 'widespread', 'interest', 'in', 'the', 'election', ',', 'the', 'number', 'of', 'voters', 'and', 'the', 'size', 'of', 'this', 'city', \"''\", '.']\n"
     ]
    },
    {
     "output_type": "execute_result",
     "data": {
      "text/plain": [
       "[('``', '``'),\n",
       " ('Only', None),\n",
       " ('a', 'AT'),\n",
       " ('relative', None),\n",
       " ('handful', None),\n",
       " ('of', 'IN'),\n",
       " ('such', None),\n",
       " ('reports', None),\n",
       " ('was', 'BEDZ'),\n",
       " ('received', None),\n",
       " (\"''\", \"''\"),\n",
       " (',', ','),\n",
       " ('the', 'AT'),\n",
       " ('jury', None),\n",
       " ('said', 'VBD'),\n",
       " (',', ','),\n",
       " ('``', '``'),\n",
       " ('considering', None),\n",
       " ('the', 'AT'),\n",
       " ('widespread', None),\n",
       " ('interest', None),\n",
       " ('in', 'IN'),\n",
       " ('the', 'AT'),\n",
       " ('election', None),\n",
       " (',', ','),\n",
       " ('the', 'AT'),\n",
       " ('number', None),\n",
       " ('of', 'IN'),\n",
       " ('voters', None),\n",
       " ('and', 'CC'),\n",
       " ('the', 'AT'),\n",
       " ('size', None),\n",
       " ('of', 'IN'),\n",
       " ('this', 'DT'),\n",
       " ('city', None),\n",
       " (\"''\", \"''\"),\n",
       " ('.', '.')]"
      ]
     },
     "metadata": {},
     "execution_count": 8
    }
   ],
   "source": [
    "sent = brown_sents[3]\n",
    "print(\"sent= \", sent)\n",
    "baseline_tagger.tag(sent)"
   ]
  },
  {
   "cell_type": "code",
   "execution_count": 9,
   "metadata": {},
   "outputs": [
    {
     "output_type": "execute_result",
     "data": {
      "text/plain": [
       "0.5817769556656125"
      ]
     },
     "metadata": {},
     "execution_count": 9
    }
   ],
   "source": [
    "# 对于一元语法模型不能标注的单词，使用默认标注器，这个过程叫做“回退”。\n",
    "baseline_tagger = nltk.UnigramTagger(model=likely_tags, backoff=nltk.DefaultTagger('NN'))\n",
    "baseline_tagger.evaluate(brown_tagged_sents)"
   ]
  },
  {
   "cell_type": "code",
   "execution_count": 10,
   "metadata": {},
   "outputs": [
    {
     "output_type": "display_data",
     "data": {
      "text/plain": "<Figure size 432x288 with 1 Axes>",
      "image/png": "[encoded data removed]",
      "application/pdf": "[encoded data removed]"
     },
     "metadata": {
      "needs_background": "dark"
     }
    }
   ],
   "source": [
    "# Ex5-4 查找标注器的性能评估\n",
    "def performance(cfd, wordlist):\n",
    "    lt = dict(\n",
    "            (word, cfd[word].max()) \n",
    "            for word in wordlist\n",
    "    )\n",
    "    baseline_tagger = nltk.UnigramTagger(model=lt, backoff=nltk.DefaultTagger('NN'))\n",
    "    return baseline_tagger.evaluate(brown_tagged_sents)\n",
    "\n",
    "\n",
    "def display():\n",
    "    word_freqs = nltk.FreqDist(brown_words).most_common()\n",
    "    words_by_freq = [\n",
    "            w \n",
    "            for (w, _) in word_freqs\n",
    "    ]\n",
    "    cfd = nltk.ConditionalFreqDist(brown_tagged_words)\n",
    "    sizes = 2 ** pylab.arange(15)\n",
    "    # 单词模型容量的大小对性能的影响\n",
    "    perfs = [\n",
    "            performance(cfd, words_by_freq[:size]) \n",
    "            for size in sizes\n",
    "    ]\n",
    "    pylab.plot(sizes, perfs, '-bo')\n",
    "    pylab.title('Lookup Tagger Performance with Varying Model Size')\n",
    "    pylab.xlabel('Model Size')\n",
    "    pylab.ylabel('Performance')\n",
    "    pylab.show()\n",
    "\n",
    "\n",
    "display()"
   ]
  }
 ]
}